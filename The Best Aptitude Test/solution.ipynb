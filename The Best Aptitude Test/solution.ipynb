{
 "cells": [
  {
   "cell_type": "code",
   "execution_count": null,
   "metadata": {},
   "outputs": [],
   "source": [
    "cases = int(input())\n",
    "inpt = []\n",
    "\n",
    "for i in range(cases):\n",
    "    students = int(input())\n",
    "    GPA = [float(x) for x in input().split()]\n",
    "    test_1 = [float(x) for x in input().split()]\n",
    "    test_2 = [float(x) for x in input().split()]\n",
    "    test_3 = [float(x) for x in input().split()]\n",
    "    test_4 = [float(x) for x in input().split()]\n",
    "    test_5 = [float(x) for x in input().split()]\n",
    "    inpt.append([GPA, test_1, test_2, test_3, test_4, test_5])"
   ]
  },
  {
   "cell_type": "code",
   "execution_count": null,
   "metadata": {},
   "outputs": [],
   "source": [
    "import pandas as pd\n",
    "\n",
    "for case in range(cases):\n",
    "    df = pd.DataFrame(inpt[case])\n",
    "    df = df.transpose()\n",
    "    correlations = df.corr(method='pearson')\n",
    "    try:\n",
    "        most_correlated_test = correlations[0][correlations[0]<1].idxmax()\n",
    "        print(most_correlated_test)\n",
    "    except:\n",
    "        print(2)"
   ]
  }
 ],
 "metadata": {
  "kernelspec": {
   "display_name": "Python 3",
   "language": "python",
   "name": "python3"
  },
  "language_info": {
   "codemirror_mode": {
    "name": "ipython",
    "version": 3
   },
   "file_extension": ".py",
   "mimetype": "text/x-python",
   "name": "python",
   "nbconvert_exporter": "python",
   "pygments_lexer": "ipython3",
   "version": "3.7.4"
  }
 },
 "nbformat": 4,
 "nbformat_minor": 2
}
