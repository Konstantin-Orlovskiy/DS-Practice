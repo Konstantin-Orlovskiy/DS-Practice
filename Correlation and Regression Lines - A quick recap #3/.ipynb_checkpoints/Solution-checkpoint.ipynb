{
 "cells": [
  {
   "cell_type": "code",
   "execution_count": null,
   "metadata": {},
   "outputs": [],
   "source": [
    "import numpy as np\n",
    "import matplotlib.pyplot as plt\n",
    "\n",
    "from sklearn.linear_model import LinearRegression\n",
    "from sklearn.tree import DecisionTreeRegressor\n",
    "\n",
    "from sklearn.preprocessing import PolynomialFeatures"
   ]
  },
  {
   "cell_type": "code",
   "execution_count": null,
   "metadata": {},
   "outputs": [],
   "source": [
    "# Physics_Scores = np.array(input().split(), float)\n",
    "# Enter input: 15  12  8   8   7   7   7   6   5   3\n",
    "\n",
    "Physics_Scores = [15, 12, 8, 8, 7, 7, 7, 6, 5, 3]\n",
    "Physics_Scores = [float(i) for i in Physics_Scores]"
   ]
  },
  {
   "cell_type": "code",
   "execution_count": null,
   "metadata": {},
   "outputs": [],
   "source": [
    "Physics_Scores"
   ]
  },
  {
   "cell_type": "code",
   "execution_count": null,
   "metadata": {},
   "outputs": [],
   "source": [
    "# History_Scores = np.array(input().split(), float)\n",
    "# Enter input: 10  25  17  11  13  17  20  13  9   15\n",
    "\n",
    "History_Scores = [10, 25, 17, 11, 13, 17, 20, 13, 9, 15]\n",
    "History_Scores = [float(i) for i in History_Scores]"
   ]
  },
  {
   "cell_type": "code",
   "execution_count": null,
   "metadata": {},
   "outputs": [],
   "source": [
    "History_Scores"
   ]
  },
  {
   "cell_type": "code",
   "execution_count": null,
   "metadata": {},
   "outputs": [],
   "source": [
    "plt.plot(Physics_Scores, History_Scores)\n",
    "plt.xlabel('Physics_Scores')\n",
    "plt.ylabel('History_Scores')"
   ]
  },
  {
   "cell_type": "markdown",
   "metadata": {},
   "source": [
    "# Linear regression\n",
    "Don't expect good performance since the dependance is not linear"
   ]
  },
  {
   "cell_type": "code",
   "execution_count": null,
   "metadata": {},
   "outputs": [],
   "source": [
    "lr = LinearRegression()"
   ]
  },
  {
   "cell_type": "code",
   "execution_count": null,
   "metadata": {
    "scrolled": true
   },
   "outputs": [],
   "source": [
    "lr.fit(np.array(Physics_Scores).reshape(-1, 1), History_Scores)\n",
    "\n",
    "# Physics_Scores was reshaped since there's only one variable while model requires at least two."
   ]
  },
  {
   "cell_type": "code",
   "execution_count": null,
   "metadata": {
    "scrolled": false
   },
   "outputs": [],
   "source": [
    "plt.plot(Physics_Scores, History_Scores, color='blue', linewidth=3, label='actual')\n",
    "plt.plot(Physics_Scores, lr.predict(np.array(Physics_Scores).reshape(-1, 1)),  color='red', label='LR predicted')\n",
    "\n",
    "plt.xlabel('Physics_Scores')\n",
    "plt.ylabel('History_Scores')\n",
    "plt.legend()"
   ]
  },
  {
   "cell_type": "code",
   "execution_count": null,
   "metadata": {},
   "outputs": [],
   "source": [
    "predict_10_lr = lr.predict(np.array(10).reshape(-1, 1)).round(1)"
   ]
  },
  {
   "cell_type": "code",
   "execution_count": null,
   "metadata": {},
   "outputs": [],
   "source": [
    "print(*predict_10_lr)"
   ]
  },
  {
   "cell_type": "markdown",
   "metadata": {},
   "source": [
    "# Decision trees"
   ]
  },
  {
   "cell_type": "code",
   "execution_count": null,
   "metadata": {},
   "outputs": [],
   "source": [
    "dtr = DecisionTreeRegressor()"
   ]
  },
  {
   "cell_type": "code",
   "execution_count": null,
   "metadata": {},
   "outputs": [],
   "source": [
    "dtr.fit(np.array(Physics_Scores).reshape(-1,1), History_Scores)"
   ]
  },
  {
   "cell_type": "code",
   "execution_count": null,
   "metadata": {},
   "outputs": [],
   "source": [
    "plt.plot(Physics_Scores, History_Scores, color='blue', linewidth=3, label='actual')\n",
    "plt.plot(Physics_Scores, dtr.predict(np.array(Physics_Scores).reshape(-1, 1)),  color='red', label='DT predicted')\n",
    "\n",
    "plt.xlabel('Physics_Scores')\n",
    "plt.ylabel('History_Scores')\n",
    "plt.legend()"
   ]
  },
  {
   "cell_type": "code",
   "execution_count": null,
   "metadata": {},
   "outputs": [],
   "source": [
    "predict_10_dtr = dtr.predict(np.array(10).reshape(-1,1))\n",
    "\n",
    "print(round(*predict_10_dtr,1))"
   ]
  },
  {
   "cell_type": "markdown",
   "metadata": {},
   "source": [
    "# Polynomial features\n",
    "attempt to apply the polynomial function to features and get better results."
   ]
  },
  {
   "cell_type": "code",
   "execution_count": null,
   "metadata": {},
   "outputs": [],
   "source": [
    "poly_regr = PolynomialFeatures(degree=4)"
   ]
  },
  {
   "cell_type": "code",
   "execution_count": null,
   "metadata": {},
   "outputs": [],
   "source": [
    "Physics_Scores_poly = poly_regr.fit_transform(np.array(Physics_Scores).reshape(-1,1))"
   ]
  },
  {
   "cell_type": "code",
   "execution_count": null,
   "metadata": {},
   "outputs": [],
   "source": [
    "lr_poly = LinearRegression()\n",
    "lr_poly.fit(Physics_Scores_poly, History_Scores)"
   ]
  },
  {
   "cell_type": "code",
   "execution_count": null,
   "metadata": {},
   "outputs": [],
   "source": [
    "dtr_poly = DecisionTreeRegressor()\n",
    "dtr_poly.fit(Physics_Scores_poly, History_Scores)"
   ]
  },
  {
   "cell_type": "code",
   "execution_count": null,
   "metadata": {},
   "outputs": [],
   "source": [
    "plt.plot(Physics_Scores_poly, History_Scores, color='blue', linewidth=3, label='actual')\n",
    "\n",
    "plt.plot(Physics_Scores_poly, lr_poly.predict(Physics_Scores_poly),\n",
    "         color='red', label='LR predicted')\n",
    "\n",
    "plt.plot(Physics_Scores_poly, dtr_poly.predict(Physics_Scores_poly),\n",
    "         color='black', label='DT predicted')\n",
    "\n",
    "plt.xlabel('Physics_Scores_Polynomial')\n",
    "plt.ylabel('History_Scores')\n",
    "plt.title('Polynomial features')\n",
    "\n",
    "plt.legend()"
   ]
  },
  {
   "cell_type": "code",
   "execution_count": null,
   "metadata": {},
   "outputs": [],
   "source": [
    "lr_poly_predict_10 = lr_poly.predict(poly_regr.fit_transform(np.array([10]).reshape(1,-1)))\n",
    "print(round(*lr_poly_predict_10,1))"
   ]
  },
  {
   "cell_type": "code",
   "execution_count": null,
   "metadata": {},
   "outputs": [],
   "source": [
    "dtr_poly_predict_10 = dtr_poly.predict(poly_regr.fit_transform(np.array([10]).reshape(1,-1)))\n",
    "print(round(*dtr_poly_predict_10,1))"
   ]
  },
  {
   "cell_type": "markdown",
   "metadata": {},
   "source": [
    "# HackerRank upload"
   ]
  },
  {
   "cell_type": "code",
   "execution_count": 1,
   "metadata": {},
   "outputs": [
    {
     "name": "stdout",
     "output_type": "stream",
     "text": [
      "3\n",
      "14.4\n"
     ]
    }
   ],
   "source": [
    "# Enter your code here. Read input from STDIN. Print output to STDOUT\n",
    "\n",
    "import numpy as np\n",
    "\n",
    "from sklearn.linear_model import LinearRegression\n",
    "from sklearn.preprocessing import PolynomialFeatures\n",
    "\n",
    "\n",
    "Physics_Scores = [15, 12, 8, 8, 7, 7, 7, 6, 5, 3]\n",
    "Physics_Scores = [float(i) for i in Physics_Scores]\n",
    "\n",
    "History_Scores = [10, 25, 17, 11, 13, 17, 20, 13, 9, 15]\n",
    "History_Scores = [float(i) for i in History_Scores]\n",
    "\n",
    "poly_regr = PolynomialFeatures(degree=4)\n",
    "Physics_Scores_poly = poly_regr.fit_transform(np.array(Physics_Scores).reshape(-1,1))\n",
    "\n",
    "lr_poly = LinearRegression()\n",
    "lr_poly.fit(Physics_Scores_poly, History_Scores)\n",
    "\n",
    "test_input = float(input())\n",
    "lr_poly_predict = lr_poly.predict(poly_regr.fit_transform(np.array([test_input]).reshape(1,-1)))\n",
    "\n",
    "print(round(*lr_poly_predict,1))"
   ]
  },
  {
   "cell_type": "code",
   "execution_count": 2,
   "metadata": {},
   "outputs": [
    {
     "data": {
      "text/plain": [
       "array([[15.],\n",
       "       [12.],\n",
       "       [ 8.],\n",
       "       [ 8.],\n",
       "       [ 7.],\n",
       "       [ 7.],\n",
       "       [ 7.],\n",
       "       [ 6.],\n",
       "       [ 5.],\n",
       "       [ 3.]])"
      ]
     },
     "execution_count": 2,
     "metadata": {},
     "output_type": "execute_result"
    }
   ],
   "source": [
    "np.array(Physics_Scores).reshape(-1,1)"
   ]
  },
  {
   "cell_type": "code",
   "execution_count": 3,
   "metadata": {},
   "outputs": [],
   "source": [
    "Physics_Scores = [[i] for i in Physics_Scores]"
   ]
  },
  {
   "cell_type": "code",
   "execution_count": 4,
   "metadata": {},
   "outputs": [
    {
     "data": {
      "text/plain": [
       "[[15.0], [12.0], [8.0], [8.0], [7.0], [7.0], [7.0], [6.0], [5.0], [3.0]]"
      ]
     },
     "execution_count": 4,
     "metadata": {},
     "output_type": "execute_result"
    }
   ],
   "source": [
    "Physics_Scores"
   ]
  },
  {
   "cell_type": "code",
   "execution_count": 6,
   "metadata": {},
   "outputs": [
    {
     "name": "stdout",
     "output_type": "stream",
     "text": [
      "10\n",
      "22.0\n"
     ]
    }
   ],
   "source": [
    "# Enter your code here. Read input from STDIN. Print output to STDOUT\n",
    "\n",
    "from sklearn.linear_model import LinearRegression\n",
    "from sklearn.preprocessing import PolynomialFeatures\n",
    "\n",
    "\n",
    "Physics_Scores = [15, 12, 8, 8, 7, 7, 7, 6, 5, 3]\n",
    "Physics_Scores = [float(i) for i in Physics_Scores]\n",
    "\n",
    "History_Scores = [10, 25, 17, 11, 13, 17, 20, 13, 9, 15]\n",
    "History_Scores = [float(i) for i in History_Scores]\n",
    "\n",
    "poly_regr = PolynomialFeatures(degree=4)\n",
    "Physics_Scores_poly = poly_regr.fit_transform([[i] for i in Physics_Scores])\n",
    "\n",
    "lr_poly = LinearRegression()\n",
    "lr_poly.fit(Physics_Scores_poly, History_Scores)\n",
    "\n",
    "test_input = float(input())\n",
    "lr_poly_predict = lr_poly.predict(poly_regr.fit_transform([[test_input]]))\n",
    "\n",
    "print(round(*lr_poly_predict,1))"
   ]
  },
  {
   "cell_type": "code",
   "execution_count": null,
   "metadata": {},
   "outputs": [],
   "source": []
  }
 ],
 "metadata": {
  "kernelspec": {
   "display_name": "Python 3",
   "language": "python",
   "name": "python3"
  },
  "language_info": {
   "codemirror_mode": {
    "name": "ipython",
    "version": 3
   },
   "file_extension": ".py",
   "mimetype": "text/x-python",
   "name": "python",
   "nbconvert_exporter": "python",
   "pygments_lexer": "ipython3",
   "version": "3.7.4"
  }
 },
 "nbformat": 4,
 "nbformat_minor": 2
}
