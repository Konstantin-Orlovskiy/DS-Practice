{
 "cells": [
  {
   "cell_type": "markdown",
   "metadata": {},
   "source": [
    "Here are the test scores of 10 students in physics and history:\n",
    "\n",
    "Physics Scores  15  12  8   8   7   7   7   6   5   3\n",
    "\n",
    "History Scores  10  25  17  11  13  17  20  13  9   15\n",
    "\n",
    "Compute the slope of the line of regression obtained while treating Physics as the independent variable.\n",
    "\n",
    "Compute the answer correct to three decimal places."
   ]
  },
  {
   "cell_type": "code",
   "execution_count": 7,
   "metadata": {},
   "outputs": [
    {
     "name": "stdout",
     "output_type": "stream",
     "text": [
      "0.208\n"
     ]
    }
   ],
   "source": [
    "p = [15, 12, 8, 8, 7, 7, 7, 6, 5, 3]\n",
    "h =  [10, 25, 17, 11, 13, 17, 20, 13, 9, 15]\n",
    "\n",
    "import numpy as np\n",
    "\n",
    "# Use numpy method polyfit() to calculate slope.\n",
    "# As first input to polyfit we pass p as Physics is to be treated as independant variable.\n",
    "# As the second input we pass h as dependant variable.\n",
    "# As third input goes the polynom degree to be equal to 1.\n",
    "fit = np.polyfit(p, h, 1)\n",
    "\n",
    "output = round(float(fit[0]),3)\n",
    "print(output)"
   ]
  }
 ],
 "metadata": {
  "kernelspec": {
   "display_name": "Python 3",
   "language": "python",
   "name": "python3"
  },
  "language_info": {
   "codemirror_mode": {
    "name": "ipython",
    "version": 3
   },
   "file_extension": ".py",
   "mimetype": "text/x-python",
   "name": "python",
   "nbconvert_exporter": "python",
   "pygments_lexer": "ipython3",
   "version": "3.7.4"
  }
 },
 "nbformat": 4,
 "nbformat_minor": 2
}
