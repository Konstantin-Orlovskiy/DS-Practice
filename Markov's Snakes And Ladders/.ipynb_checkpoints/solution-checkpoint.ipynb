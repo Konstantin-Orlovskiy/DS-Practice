{
 "cells": [
  {
   "cell_type": "markdown",
   "metadata": {},
   "source": [
    "# Taking inputs"
   ]
  },
  {
   "cell_type": "code",
   "execution_count": 82,
   "metadata": {},
   "outputs": [
    {
     "name": "stdout",
     "output_type": "stream",
     "text": [
      "0.32,0.32,0.12,0.04,0.07,0.13\n"
     ]
    }
   ],
   "source": [
    "# Taking input for probabilities.\n",
    "probs = input().split()"
   ]
  },
  {
   "cell_type": "code",
   "execution_count": 89,
   "metadata": {
    "scrolled": true
   },
   "outputs": [
    {
     "name": "stdout",
     "output_type": "stream",
     "text": [
      "3,7\n"
     ]
    }
   ],
   "source": [
    "# Taking for number of ladders and snakes.\n",
    "lad_snk = [int(x) for x in input().split(',')]\n",
    "num_ladders = lad_snk[0]\n",
    "num_snakes = lad_snk[1]"
   ]
  },
  {
   "cell_type": "code",
   "execution_count": 59,
   "metadata": {},
   "outputs": [
    {
     "name": "stdout",
     "output_type": "stream",
     "text": [
      "32,62 42,68 12,98\n"
     ]
    }
   ],
   "source": [
    "# Taking input for ladders.\n",
    "ladders = [int(x) for x in input().replace(',', ' ').split()]"
   ]
  },
  {
   "cell_type": "code",
   "execution_count": 60,
   "metadata": {},
   "outputs": [
    {
     "name": "stdout",
     "output_type": "stream",
     "text": [
      "95,13 97,25 93,37 79,27 75,19 49,47 67,17\n"
     ]
    }
   ],
   "source": [
    "# Taking input for snakes.\n",
    "snakes = [int(x) for x in input().replace(',', ' ').split()]"
   ]
  },
  {
   "cell_type": "markdown",
   "metadata": {},
   "source": [
    "# Develop functions to run games"
   ]
  },
  {
   "cell_type": "code",
   "execution_count": 16,
   "metadata": {},
   "outputs": [],
   "source": [
    "def Roll_Dice(probs):\n",
    "    import numpy as np\n",
    "    values = [1, 2, 3, 4, 5, 6]  # Possible dice roll outcomes.\n",
    "    roll = np.random.choice(values, p=probs)  # Passing on the probability of each outcome for the biased dice.\n",
    "    return(roll)"
   ]
  },
  {
   "cell_type": "code",
   "execution_count": 91,
   "metadata": {},
   "outputs": [
    {
     "data": {
      "text/plain": [
       "\"\\n# Code below to visualize the created board:\\n\\nboard = Set_Board(num_ladders, ladders, num_snakes, snakes)\\nimport pandas as pd\\ndf = pd.DataFrame(data=board)\\nwith pd.option_context('display.max_rows', None, 'display.max_columns', None):\\n    print(df)\\n    \\n\""
      ]
     },
     "execution_count": 91,
     "metadata": {},
     "output_type": "execute_result"
    }
   ],
   "source": [
    "def Set_Board(num_ladders, ladders, num_snakes, snakes):\n",
    "    board = [0]*100\n",
    "    \n",
    "    ladders_start = ladders[0::2]\n",
    "    ladders_finish = ladders[1::2]\n",
    "    for l in range(num_ladders):\n",
    "        board[ladders_start[l]-1] = ladders_finish[l]-1\n",
    "        \n",
    "    num_snakes = len(snakes)//2\n",
    "    snakes_mouth = snakes[0::2]\n",
    "    snakes_tail = snakes[1::2]\n",
    "    for s in range(num_snakes):\n",
    "        board[snakes_mouth[s]-1] = snakes_tail[s]-1\n",
    "    \n",
    "    return(board)\n",
    "\n",
    "'''\n",
    "# Code below to visualize the created board:\n",
    "\n",
    "board = Set_Board(num_ladders, ladders, num_snakes, snakes)\n",
    "import pandas as pd\n",
    "df = pd.DataFrame(data=board)\n",
    "with pd.option_context('display.max_rows', None, 'display.max_columns', None):\n",
    "    print(df)\n",
    "    \n",
    "'''"
   ]
  },
  {
   "cell_type": "code",
   "execution_count": null,
   "metadata": {},
   "outputs": [],
   "source": [
    "def Run_Games(N, probs, num_ladders, ladders, num_snakes, snakes):\n",
    "    "
   ]
  }
 ],
 "metadata": {
  "kernelspec": {
   "display_name": "Python 3",
   "language": "python",
   "name": "python3"
  },
  "language_info": {
   "codemirror_mode": {
    "name": "ipython",
    "version": 3
   },
   "file_extension": ".py",
   "mimetype": "text/x-python",
   "name": "python",
   "nbconvert_exporter": "python",
   "pygments_lexer": "ipython3",
   "version": "3.7.4"
  }
 },
 "nbformat": 4,
 "nbformat_minor": 2
}
