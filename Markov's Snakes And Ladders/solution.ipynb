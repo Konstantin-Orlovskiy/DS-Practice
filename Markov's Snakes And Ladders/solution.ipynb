{
 "cells": [
  {
   "cell_type": "markdown",
   "metadata": {},
   "source": [
    "# Taking inputs"
   ]
  },
  {
   "cell_type": "code",
   "execution_count": null,
   "metadata": {},
   "outputs": [],
   "source": [
    "# Take inputs.\n",
    "\n",
    "boards_QTY = int(input())\n",
    "\n",
    "boards_configs = []\n",
    "\n",
    "for config in range(boards_QTY):\n",
    "    probs = [float(x) for x in input().split(',')]\n",
    "    lad_snk = [int(x) for x in input().split(',')]\n",
    "    num_ladders = lad_snk[0]\n",
    "    num_snakes = lad_snk[1]\n",
    "    ladders = [int(x) for x in input().replace(',', ' ').split()]\n",
    "    snakes = [int(x) for x in input().replace(',', ' ').split()]\n",
    "    boards_configs.append([probs, num_ladders, ladders, num_snakes, snakes])\n",
    "    \n",
    "    "
   ]
  },
  {
   "cell_type": "markdown",
   "metadata": {},
   "source": [
    "# Develop functions to run games"
   ]
  },
  {
   "cell_type": "code",
   "execution_count": null,
   "metadata": {},
   "outputs": [],
   "source": [
    "def Roll_Dice(probs):\n",
    "    values = [1, 2, 3, 4, 5, 6]  # Possible dice roll outcomes.\n",
    "    import random\n",
    "    roll = random.choices(population=values, weights=probs)[0]\n",
    "    return(roll)"
   ]
  },
  {
   "cell_type": "code",
   "execution_count": null,
   "metadata": {
    "scrolled": true
   },
   "outputs": [],
   "source": [
    "def Set_Board(num_ladders, ladders, num_snakes, snakes):\n",
    "    board = [0]*105  # List representing board is slightly longer to avoid overflow when dice 6 comes on cell 98.\n",
    "    \n",
    "    ladders_start = ladders[0::2]\n",
    "    ladders_finish = ladders[1::2]\n",
    "    for l in range(num_ladders):\n",
    "        board[ladders_start[l]-1] = ladders_finish[l]-1\n",
    "        \n",
    "    num_snakes = len(snakes)//2\n",
    "    snakes_mouth = snakes[0::2]\n",
    "    snakes_tail = snakes[1::2]\n",
    "    for s in range(num_snakes):\n",
    "        board[snakes_mouth[s]-1] = snakes_tail[s]-1\n",
    "    \n",
    "    return(board)\n",
    "\n",
    "'''\n",
    "# Code below to visualize the created board:\n",
    "\n",
    "board = Set_Board(num_ladders, ladders, num_snakes, snakes)\n",
    "import pandas as pd\n",
    "df = pd.DataFrame(data=board)\n",
    "with pd.option_context('display.max_rows', None, 'display.max_columns', None):\n",
    "    print(df)\n",
    "    \n",
    "'''"
   ]
  },
  {
   "cell_type": "code",
   "execution_count": null,
   "metadata": {},
   "outputs": [],
   "source": [
    "def Moves(board, position, rolls, probs): \n",
    "    while position < 99:\n",
    "        position += Roll_Dice(probs)\n",
    "        rolls += 1\n",
    "        if board[position] != 0:\n",
    "            position = board[position]\n",
    "    \n",
    "    return(rolls)"
   ]
  },
  {
   "cell_type": "code",
   "execution_count": null,
   "metadata": {},
   "outputs": [],
   "source": [
    "def Run_Games(N, probs, num_ladders, ladders, num_snakes, snakes):\n",
    "    board = Set_Board(num_ladders, ladders, num_snakes, snakes)  \n",
    "    position = 0\n",
    "    rolls = 0\n",
    "    games_rolls = []\n",
    "    for game in range(N):\n",
    "        games_rolls.append(Moves(board, position, rolls, probs))\n",
    "    \n",
    "    avg_rolls = int(sum(games_rolls)/len(games_rolls))\n",
    "    return(avg_rolls)"
   ]
  },
  {
   "cell_type": "code",
   "execution_count": null,
   "metadata": {},
   "outputs": [],
   "source": [
    "# Run 5000 games on each board configuration.\n",
    "for config in range(boards_QTY):\n",
    "    print(Run_Games(N=5000, \n",
    "                    probs = boards_configs[config][0], \n",
    "                    num_ladders = boards_configs[config][1], \n",
    "                    ladders = boards_configs[config][2], \n",
    "                    num_snakes = boards_configs[config][3], \n",
    "                    snakes = boards_configs[config][4]\n",
    "                   )\n",
    "         )"
   ]
  },
  {
   "cell_type": "markdown",
   "metadata": {},
   "source": [
    "# HackerRank upload"
   ]
  },
  {
   "cell_type": "code",
   "execution_count": 2,
   "metadata": {},
   "outputs": [
    {
     "name": "stdout",
     "output_type": "stream",
     "text": [
      "3\n",
      "0.32,0.32,0.12,0.04,0.07,0.13\n",
      "3,7\n",
      "32,62 42,68 12,98\n",
      "95,13 97,25 93,37 79,27 75,19 49,47 67,17\n",
      "0.39,0.05,0.14,0.05,0.12,0.25\n",
      "5,8\n",
      "32,62 44,66 22,58 34,60 2,90\n",
      "85,7 63,31 87,13 75,11 89,33 57,5 71,15 55,25\n",
      "0.54,0.02,0.02,0.01,0.3,0.11\n",
      "4,9\n",
      "8,52 6,80 26,42 2,72\n",
      "51,19 39,11 37,29 81,3 59,5 79,23 53,7 43,33 77,21\n",
      "163\n",
      "93\n",
      "163\n"
     ]
    }
   ],
   "source": [
    "# Take inputs.\n",
    "\n",
    "boards_QTY = int(input())\n",
    "\n",
    "boards_configs = []\n",
    "\n",
    "for config in range(boards_QTY):\n",
    "    probs = [float(x) for x in input().split(',')]\n",
    "    lad_snk = [int(x) for x in input().split(',')]\n",
    "    num_ladders = lad_snk[0]\n",
    "    num_snakes = lad_snk[1]\n",
    "    ladders = [int(x) for x in input().replace(',', ' ').split()]\n",
    "    snakes = [int(x) for x in input().replace(',', ' ').split()]\n",
    "    boards_configs.append([probs, num_ladders, ladders, num_snakes, snakes])\n",
    "\n",
    "\n",
    "\n",
    "def Roll_Dice(probs):\n",
    "    values = [1, 2, 3, 4, 5, 6]  # Possible dice roll outcomes.\n",
    "    # import numpy as np\n",
    "    # roll = np.random.choice(values, p=probs)  # Passing on the probability of each outcome for the biased dice.\n",
    "    import random\n",
    "    roll = random.choices(population=values, weights=probs)[0]\n",
    "    return(roll)\n",
    "\n",
    "\n",
    "\n",
    "def Set_Board(num_ladders, ladders, num_snakes, snakes):\n",
    "    board = [0]*105  # List representing board is slightly longer to avoid overflow when dice 6 comes on cell 98.\n",
    "    \n",
    "    ladders_start = ladders[0::2]\n",
    "    ladders_finish = ladders[1::2]\n",
    "    for l in range(num_ladders):\n",
    "        board[ladders_start[l]-1] = ladders_finish[l]-1\n",
    "        \n",
    "    num_snakes = len(snakes)//2\n",
    "    snakes_mouth = snakes[0::2]\n",
    "    snakes_tail = snakes[1::2]\n",
    "    for s in range(num_snakes):\n",
    "        board[snakes_mouth[s]-1] = snakes_tail[s]-1\n",
    "    \n",
    "    return(board)\n",
    "\n",
    "\n",
    "def Moves(board, position, rolls, probs): \n",
    "    while position < 99:\n",
    "        position += Roll_Dice(probs)\n",
    "        rolls += 1\n",
    "        if board[position] != 0:\n",
    "            position = board[position]\n",
    "    \n",
    "    return(rolls)\n",
    "\n",
    "\n",
    "\n",
    "def Run_Games(N, probs, num_ladders, ladders, num_snakes, snakes):\n",
    "    board = Set_Board(num_ladders, ladders, num_snakes, snakes)  \n",
    "    position = 0\n",
    "    rolls = 0\n",
    "    games_rolls = []\n",
    "    for game in range(N):\n",
    "        games_rolls.append(Moves(board, position, rolls, probs))\n",
    "    \n",
    "    avg_rolls = int(sum(games_rolls)/len(games_rolls))\n",
    "    return(avg_rolls)\n",
    "\n",
    "\n",
    "# Run 5000 games on each board configuration.\n",
    "for config in range(boards_QTY):\n",
    "    print(Run_Games(N=5000, \n",
    "                    probs = boards_configs[config][0], \n",
    "                    num_ladders = boards_configs[config][1], \n",
    "                    ladders = boards_configs[config][2], \n",
    "                    num_snakes = boards_configs[config][3], \n",
    "                    snakes = boards_configs[config][4]\n",
    "                   )\n",
    "         )"
   ]
  },
  {
   "cell_type": "code",
   "execution_count": null,
   "metadata": {},
   "outputs": [],
   "source": []
  }
 ],
 "metadata": {
  "kernelspec": {
   "display_name": "Python 3",
   "language": "python",
   "name": "python3"
  },
  "language_info": {
   "codemirror_mode": {
    "name": "ipython",
    "version": 3
   },
   "file_extension": ".py",
   "mimetype": "text/x-python",
   "name": "python",
   "nbconvert_exporter": "python",
   "pygments_lexer": "ipython3",
   "version": "3.7.4"
  }
 },
 "nbformat": 4,
 "nbformat_minor": 2
}
