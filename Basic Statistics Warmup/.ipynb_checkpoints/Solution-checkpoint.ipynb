{
 "cells": [
  {
   "cell_type": "markdown",
   "metadata": {},
   "source": [
    "# Format for outputs\n",
    "Mean (format:0.0) on the first line\n",
    "\n",
    "Median (format: 0.0) on the second line\n",
    "\n",
    "Mode(s) (Numerically smallest Integer in case of multiple integers)\n",
    "\n",
    "Standard Deviation (format:0.0) \n",
    "\n",
    "Lower and Upper Boundary of Confidence Interval (format: 0.0) with a space between them."
   ]
  },
  {
   "cell_type": "markdown",
   "metadata": {},
   "source": [
    "# Test input\n",
    "\n",
    "10\n",
    "\n",
    "64630 11735 14216 99233 14470 4978 73429 38120 51135 67060"
   ]
  },
  {
   "cell_type": "code",
   "execution_count": 13,
   "metadata": {
    "scrolled": true
   },
   "outputs": [
    {
     "name": "stdout",
     "output_type": "stream",
     "text": [
      "10\n"
     ]
    },
    {
     "data": {
      "text/plain": [
       "10"
      ]
     },
     "execution_count": 13,
     "metadata": {},
     "output_type": "execute_result"
    }
   ],
   "source": [
    "N = int(input())\n",
    "N"
   ]
  },
  {
   "cell_type": "code",
   "execution_count": 17,
   "metadata": {
    "scrolled": false
   },
   "outputs": [
    {
     "name": "stdout",
     "output_type": "stream",
     "text": [
      "64630 11735 14216 99233 14470 4978 73429 38120 51135 67060\n"
     ]
    },
    {
     "data": {
      "text/plain": [
       "[64630, 11735, 14216, 99233, 14470, 4978, 73429, 38120, 51135, 67060]"
      ]
     },
     "execution_count": 17,
     "metadata": {},
     "output_type": "execute_result"
    }
   ],
   "source": [
    "lst = [int(i) for i in input().split()]\n",
    "lst"
   ]
  },
  {
   "cell_type": "code",
   "execution_count": 2,
   "metadata": {},
   "outputs": [],
   "source": []
  },
  {
   "cell_type": "code",
   "execution_count": 56,
   "metadata": {},
   "outputs": [],
   "source": [
    "def mean(lst):\n",
    "    N = len(lst)\n",
    "    mean = sum(lst)/N\n",
    "    return(round(mean,1))"
   ]
  },
  {
   "cell_type": "code",
   "execution_count": 84,
   "metadata": {},
   "outputs": [],
   "source": [
    "def median(lst):\n",
    "    lst.sort()\n",
    "    N = len(lst)\n",
    "    if N%2!=0:\n",
    "        return(lst[N//2])\n",
    "    else:\n",
    "        avg = (lst[N//2]+lst[N//2-1])/2\n",
    "        return(round(avg,1))"
   ]
  },
  {
   "cell_type": "code",
   "execution_count": 28,
   "metadata": {},
   "outputs": [],
   "source": [
    "def mode(lst):\n",
    "    frequency = {}\n",
    "    for i in lst:\n",
    "        frequency.setdefault(i,0)\n",
    "        frequency[i] += 1\n",
    "    max_freq = max(frequency.values())  # Getting the highest value of occurence.\n",
    "    frequent = {key:value for key, value in frequency.items() if value==max_freq}  # Filtering highest occurencies.\n",
    "    mode = min(frequent.keys())  # Chosing the smallest number from highest occurencies.\n",
    "    return(mode)"
   ]
  },
  {
   "cell_type": "code",
   "execution_count": 118,
   "metadata": {},
   "outputs": [],
   "source": [
    "def std_div(lst):\n",
    "    N = len(lst)\n",
    "    mean = sum(lst)/N\n",
    "    stddiv = (\n",
    "        sum((i-mean)**2 for i in lst)/N\n",
    "    )**(0.5)\n",
    "    return(round(stddiv,1))"
   ]
  },
  {
   "cell_type": "code",
   "execution_count": 119,
   "metadata": {},
   "outputs": [],
   "source": [
    "# Use the constant z=1.96 while computing the confidence interval.\n",
    "def conf_int_mean(lst, Z=1.96):\n",
    "    std_div_value = std_div(lst)\n",
    "    mean_value = mean(lst)\n",
    "    N = len(lst)\n",
    "    \n",
    "    deviator = Z*(std_div_value/N**0.5)\n",
    "        \n",
    "    lower = round(mean_value - deviator,1)\n",
    "    higher = round(mean_value + deviator,1)\n",
    "    interval = str(lower) + ' ' + str(higher)\n",
    "    return(interval)"
   ]
  },
  {
   "cell_type": "code",
   "execution_count": 122,
   "metadata": {
    "scrolled": true
   },
   "outputs": [
    {
     "name": "stdout",
     "output_type": "stream",
     "text": [
      "43900.6\n",
      "44627.5\n",
      "4978\n",
      "30466.9\n",
      "25017.0 62784.2\n"
     ]
    }
   ],
   "source": [
    "print(mean(lst), median(lst), mode(lst), std_div(lst), conf_int_mean(lst, Z=1.96), sep = '\\n')"
   ]
  },
  {
   "cell_type": "markdown",
   "metadata": {},
   "source": [
    "# HackerRank upload"
   ]
  },
  {
   "cell_type": "code",
   "execution_count": 124,
   "metadata": {},
   "outputs": [
    {
     "name": "stdout",
     "output_type": "stream",
     "text": [
      "10\n",
      "64630 11735 14216 99233 14470 4978 73429 38120 51135 67060\n",
      "43900.6\n",
      "44627.5\n",
      "4978\n",
      "30466.9\n",
      "25017.0 62784.2\n"
     ]
    }
   ],
   "source": [
    "def mean(lst):\n",
    "    N = len(lst)\n",
    "    mean = sum(lst)/N\n",
    "    return(round(mean,1))\n",
    "\n",
    "\n",
    "def median(lst):\n",
    "    lst.sort()\n",
    "    N = len(lst)\n",
    "    if N%2!=0:\n",
    "        return(lst[N//2])\n",
    "    else:\n",
    "        avg = (lst[N//2]+lst[N//2-1])/2\n",
    "        return(round(avg,1))\n",
    "\n",
    "\n",
    "def mode(lst):\n",
    "    frequency = {}\n",
    "    for i in lst:\n",
    "        frequency.setdefault(i,0)\n",
    "        frequency[i] += 1\n",
    "    max_freq = max(frequency.values())  # Getting the highest value of occurence.\n",
    "    frequent = {key:value for key, value in frequency.items() if value==max_freq}  # Filtering highest occurencies.\n",
    "    mode = min(frequent.keys())  # Chosing the smallest number from highest occurencies.\n",
    "    return(mode)\n",
    "\n",
    "\n",
    "def std_div(lst):\n",
    "    N = len(lst)\n",
    "    mean = sum(lst)/N\n",
    "    stddiv = (\n",
    "        sum((i-mean)**2 for i in lst)/N\n",
    "    )**(0.5)\n",
    "    return(round(stddiv,1))\n",
    "\n",
    "\n",
    "# Use the constant z=1.96 while computing the confidence interval.\n",
    "def conf_int_mean(lst, Z=1.96):\n",
    "    std_div_value = std_div(lst)\n",
    "    mean_value = mean(lst)\n",
    "    N = len(lst)\n",
    "    \n",
    "    deviator = Z*(std_div_value/N**0.5)\n",
    "        \n",
    "    lower = round(mean_value - deviator,1)\n",
    "    higher = round(mean_value + deviator,1)\n",
    "    interval = str(lower) + ' ' + str(higher)\n",
    "    return(interval)\n",
    "\n",
    "\n",
    "N = int(input())\n",
    "lst = [int(i) for i in input().split()]\n",
    "\n",
    "print(mean(lst), median(lst), mode(lst), std_div(lst), conf_int_mean(lst, Z=1.96), sep = '\\n')"
   ]
  },
  {
   "cell_type": "code",
   "execution_count": null,
   "metadata": {},
   "outputs": [],
   "source": []
  }
 ],
 "metadata": {
  "kernelspec": {
   "display_name": "Python 3",
   "language": "python",
   "name": "python3"
  },
  "language_info": {
   "codemirror_mode": {
    "name": "ipython",
    "version": 3
   },
   "file_extension": ".py",
   "mimetype": "text/x-python",
   "name": "python",
   "nbconvert_exporter": "python",
   "pygments_lexer": "ipython3",
   "version": "3.7.4"
  }
 },
 "nbformat": 4,
 "nbformat_minor": 2
}
