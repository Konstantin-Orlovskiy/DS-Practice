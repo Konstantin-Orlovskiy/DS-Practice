{
 "cells": [
  {
   "cell_type": "code",
   "execution_count": 11,
   "metadata": {},
   "outputs": [],
   "source": [
    "# Bigger dataset available here http://s3.amazonaws.com/hr-testcases-us-east-1/329/assets/bigger_data_set.txt"
   ]
  },
  {
   "cell_type": "markdown",
   "metadata": {},
   "source": [
    "The first line contains three space separated numbers m k d.\n",
    "* m - the amount of money you could spend that day.\n",
    "* k - the number of different stocks available for buying or selling.\n",
    "* d - the number of remaining days for trading stocks.\n",
    "\n",
    "k lines follow, each in the following format: name owned prices\n",
    "* name - the name of the stock (a string).\n",
    "* owned - the number of shares you own of that stock.\n",
    "* prices - 5 space separated numbers representing the stock's price for the last 5 days. These are ordered from oldest to newest, so the last number is the current stock price."
   ]
  },
  {
   "cell_type": "markdown",
   "metadata": {},
   "source": [
    "Sample input\n",
    "\n",
    "90 2 400\n",
    "\n",
    "iStreet 10 4.54 5.53 6.56 5.54 7.60\n",
    "\n",
    "HR 0 30.54 27.53 24.42 20.11 17.50"
   ]
  },
  {
   "cell_type": "code",
   "execution_count": 32,
   "metadata": {},
   "outputs": [],
   "source": [
    "import pandas as pd"
   ]
  },
  {
   "cell_type": "code",
   "execution_count": 21,
   "metadata": {
    "scrolled": true
   },
   "outputs": [
    {
     "name": "stdout",
     "output_type": "stream",
     "text": [
      "90 2 400\n"
     ]
    }
   ],
   "source": [
    "# Take first line of input, it contains useful info.\n",
    "info = input().split()\n",
    "m = float(info[0])\n",
    "k = int(info[1])\n",
    "d = int(info[2])"
   ]
  },
  {
   "cell_type": "code",
   "execution_count": 53,
   "metadata": {},
   "outputs": [],
   "source": [
    "# Create a dataframe to store the input information\n",
    "\n",
    "df = pd.DataFrame(columns=['name', 'owned', 1, 2, 3, 4, 5])"
   ]
  },
  {
   "cell_type": "code",
   "execution_count": 56,
   "metadata": {
    "scrolled": true
   },
   "outputs": [],
   "source": [
    "df['name'] = df['name'].astype(str)\n",
    "df['owned'] = df['owned'].astype(float)\n",
    "for i in range(1,5+1):\n",
    "    df[i] = df[i].astype(float)"
   ]
  },
  {
   "cell_type": "code",
   "execution_count": 57,
   "metadata": {},
   "outputs": [
    {
     "name": "stdout",
     "output_type": "stream",
     "text": [
      "<class 'pandas.core.frame.DataFrame'>\n",
      "Index: 0 entries\n",
      "Data columns (total 7 columns):\n",
      "name     0 non-null object\n",
      "owned    0 non-null float64\n",
      "1        0 non-null float64\n",
      "2        0 non-null float64\n",
      "3        0 non-null float64\n",
      "4        0 non-null float64\n",
      "5        0 non-null float64\n",
      "dtypes: float64(6), object(1)\n",
      "memory usage: 0.0+ bytes\n"
     ]
    }
   ],
   "source": [
    "df.info()"
   ]
  },
  {
   "cell_type": "code",
   "execution_count": 28,
   "metadata": {},
   "outputs": [
    {
     "name": "stdout",
     "output_type": "stream",
     "text": [
      "iStreet 10 4.54 5.53 6.56 5.54 7.60\n",
      "HR 0 30.54 27.53 24.42 20.11 17.50\n"
     ]
    },
    {
     "data": {
      "text/plain": [
       "[['iStreet', '10', '4.54', '5.53', '6.56', '5.54', '7.60'],\n",
       " ['HR', '0', '30.54', '27.53', '24.42', '20.11', '17.50']]"
      ]
     },
     "execution_count": 28,
     "metadata": {},
     "output_type": "execute_result"
    }
   ],
   "source": [
    "[input().split() for line in range(k)]"
   ]
  },
  {
   "cell_type": "code",
   "execution_count": null,
   "metadata": {},
   "outputs": [],
   "source": []
  }
 ],
 "metadata": {
  "kernelspec": {
   "display_name": "Python 3",
   "language": "python",
   "name": "python3"
  },
  "language_info": {
   "codemirror_mode": {
    "name": "ipython",
    "version": 3
   },
   "file_extension": ".py",
   "mimetype": "text/x-python",
   "name": "python",
   "nbconvert_exporter": "python",
   "pygments_lexer": "ipython3",
   "version": "3.7.4"
  }
 },
 "nbformat": 4,
 "nbformat_minor": 2
}
