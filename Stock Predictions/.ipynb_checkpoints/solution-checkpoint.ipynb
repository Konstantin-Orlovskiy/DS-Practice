{
 "cells": [
  {
   "cell_type": "code",
   "execution_count": null,
   "metadata": {},
   "outputs": [],
   "source": [
    "# Bigger dataset available here http://s3.amazonaws.com/hr-testcases-us-east-1/329/assets/bigger_data_set.txt"
   ]
  },
  {
   "cell_type": "markdown",
   "metadata": {},
   "source": [
    "The first line contains three space separated numbers m k d.\n",
    "* m - the amount of money you could spend that day.\n",
    "* k - the number of different stocks available for buying or selling.\n",
    "* d - the number of remaining days for trading stocks.\n",
    "\n",
    "k lines follow, each in the following format: name owned prices\n",
    "* name - the name of the stock (a string).\n",
    "* owned - the number of shares you own of that stock.\n",
    "* prices - 5 space separated numbers representing the stock's price for the last 5 days. These are ordered from oldest to newest, so the last number is the current stock price."
   ]
  },
  {
   "cell_type": "markdown",
   "metadata": {},
   "source": [
    "Sample input\n",
    "\n",
    "90 2 400\n",
    "\n",
    "iStreet 10 4.54 5.53 6.56 5.54 7.60\n",
    "\n",
    "HR 5 30.54 27.53 24.42 20.11 17.50"
   ]
  },
  {
   "cell_type": "code",
   "execution_count": null,
   "metadata": {},
   "outputs": [],
   "source": [
    "import pandas as pd"
   ]
  },
  {
   "cell_type": "code",
   "execution_count": null,
   "metadata": {
    "scrolled": true
   },
   "outputs": [],
   "source": [
    "# Take first line of input, it contains useful info.\n",
    "info = input().split()\n",
    "m = float(info[0])  # m - the amount of money you could spend that day.\n",
    "k = int(info[1])  # k - the number of different stocks available for buying or selling.\n",
    "d = int(info[2])  # d - the number of remaining days for trading stocks."
   ]
  },
  {
   "cell_type": "code",
   "execution_count": null,
   "metadata": {
    "scrolled": true
   },
   "outputs": [],
   "source": [
    "inpt = [input().split()for line in range(k)]"
   ]
  },
  {
   "cell_type": "code",
   "execution_count": null,
   "metadata": {},
   "outputs": [],
   "source": [
    "# Formatting updates.\n",
    "\n",
    "for i in range(k):\n",
    "    for j in range(2,7):\n",
    "        inpt[i][j] = float(inpt[i][j])\n",
    "    \n",
    "    inpt[i][1] = int(inpt[i][1])\n",
    "\n",
    "        \n",
    "inpt"
   ]
  },
  {
   "cell_type": "code",
   "execution_count": null,
   "metadata": {},
   "outputs": [],
   "source": [
    "# Check if there's a list to store the historical prices.\n",
    "# If not - create new one.\n",
    "try:\n",
    "    len(history)>0\n",
    "    for i in range(len(history)):\n",
    "        history[i].append(inpt[i][-1])  \n",
    "except:\n",
    "    history = [sublist[2:] for sublist in inpt]"
   ]
  },
  {
   "cell_type": "code",
   "execution_count": null,
   "metadata": {},
   "outputs": [],
   "source": [
    "history"
   ]
  },
  {
   "cell_type": "code",
   "execution_count": null,
   "metadata": {},
   "outputs": [],
   "source": [
    "def Slope_calc(lst):\n",
    "    import numpy as np    \n",
    "    # create sequential array representing days\n",
    "    days = np.arange(len(lst))\n",
    "    # Use numpy method polyfit() with degree '1' to get the slope value\n",
    "    fit = np.polyfit(days, lst, 1)\n",
    "     \n",
    "    return(fit[0])"
   ]
  },
  {
   "cell_type": "code",
   "execution_count": null,
   "metadata": {
    "scrolled": false
   },
   "outputs": [],
   "source": [
    "# Creating dataframe for decision making                  \n",
    "tmp_lst = []\n",
    "for i in range(len(inpt)):\n",
    "    tmp_lst.append( [inpt[i][0], inpt[i][1],inpt[i][6], round(Slope_calc(history[i]),4)] )\n",
    "\n",
    "df = pd.DataFrame(tmp_lst, columns=['name', 'owned', 'today price', 'slope'])\n",
    "\n",
    "# Adding ACTION and QTY columns:\n",
    "df['ACTION'] = ''\n",
    "df['QTY'] = 0\n",
    "\n",
    "\n",
    "# Sort by descending slope meaning the more valueable stock to buy.\n",
    "df.sort_values(by=['slope'], ascending = False)"
   ]
  },
  {
   "cell_type": "code",
   "execution_count": null,
   "metadata": {},
   "outputs": [],
   "source": [
    "def Actions(df, m):\n",
    "    for index, row in df.iterrows():\n",
    "        if row['slope'] > 0:\n",
    "            if m//row['today price'] > 0:\n",
    "                df.at[index,'ACTION'] = 'BUY'\n",
    "                df.at[index,'QTY'] = m//row['today price']\n",
    "                m -=  row['today price'] * (m//row['today price'])\n",
    "                m = round(m,2)\n",
    "        if row['slope'] < 0:\n",
    "            if row['owned'] > 0:\n",
    "                df.at[index,'ACTION'] = 'SELL'\n",
    "                df.at[index,'QTY'] = int(row['owned'])"
   ]
  },
  {
   "cell_type": "code",
   "execution_count": null,
   "metadata": {
    "scrolled": false
   },
   "outputs": [],
   "source": [
    "Actions(df, m)"
   ]
  },
  {
   "cell_type": "code",
   "execution_count": null,
   "metadata": {},
   "outputs": [],
   "source": [
    "df"
   ]
  },
  {
   "cell_type": "code",
   "execution_count": null,
   "metadata": {
    "scrolled": true
   },
   "outputs": [],
   "source": [
    "# Filter rows where the action was taken (meaning QTY is more than zero)\n",
    "df_actionable = df[df.QTY>0]\n",
    "\n",
    "# Print transaction\n",
    "print(len(df_actionable))\n",
    "for index, row in df_actionable.iterrows():\n",
    "    print(row['name'], row['ACTION'], row['QTY'])"
   ]
  },
  {
   "cell_type": "markdown",
   "metadata": {},
   "source": [
    "# HackerRank upload #1"
   ]
  },
  {
   "cell_type": "code",
   "execution_count": null,
   "metadata": {},
   "outputs": [],
   "source": [
    "import pandas as pd\n",
    "\n",
    "# Take first line of input, it contains useful info.\n",
    "info = input().split()\n",
    "m = float(info[0])  # m - the amount of money you could spend that day.\n",
    "k = int(info[1])  # k - the number of different stocks available for buying or selling.\n",
    "d = int(info[2])  # d - the number of remaining days for trading stocks.\n",
    "\n",
    "# Taking the rest of input\n",
    "inpt = [input().split() for line in range(k)]\n",
    "\n",
    "# Formatting the numbers\n",
    "for i in range(k):\n",
    "    for j in range(2,7):\n",
    "        inpt[i][j] = float(inpt[i][j])\n",
    "    \n",
    "    inpt[i][1] = int(inpt[i][1])\n",
    "\n",
    "# Function calculating the slope of prices change.\n",
    "\n",
    "def Slope_calc(lst):\n",
    "    import numpy as np\n",
    "    \n",
    "    name = lst[0]\n",
    "    owned = lst[1]\n",
    "    prices = lst[2:]\n",
    "    \n",
    "    # create sequential array representing days\n",
    "    days = np.arange(5)\n",
    "    # Use numpy method polyfit() with degree '1' to get the slope value\n",
    "    fit = np.polyfit(days, prices, 1)\n",
    "    \n",
    "    \n",
    "    return([name, owned, prices[-1], fit[0]])\n",
    "\n",
    "# Creating dataframe for decision making                  \n",
    "\n",
    "tmp_lst = []\n",
    "for i in range(len(inpt)):\n",
    "    tmp_lst.append(Slope_calc(inpt[i]))\n",
    "\n",
    "df = pd.DataFrame(tmp_lst, columns=['name', 'owned', 'today price', 'slope'])\n",
    "\n",
    "# Adding ACTION and QTY columns:\n",
    "df['ACTION'] = ''\n",
    "df['QTY'] = 0\n",
    "\n",
    "# Sort by descending slope meaning the more valueable stock to buy.\n",
    "df.sort_values(by=['slope'], ascending = False)\n",
    "\n",
    "# Function to make BUY/SELL decisions.\n",
    "# When slope is positive - BUY, when negative - SELL.\n",
    "\n",
    "def Actions(df, m):\n",
    "    for index, row in df.iterrows():\n",
    "        if row['slope'] > 0:\n",
    "            if m//row['today price'] != 0:\n",
    "                df.at[index,'ACTION'] = 'BUY'\n",
    "                df.at[index,'QTY'] = m//row['today price']\n",
    "                m -=  row['today price'] * (m//row['today price'])\n",
    "                m = round(m,2)\n",
    "        if row['slope'] < 0:\n",
    "            if row['owned'] > 0:\n",
    "                df.at[index,'ACTION'] = 'SELL'\n",
    "                df.at[index,'QTY'] = int(row['owned'])\n",
    "\n",
    "Actions(df, m)\n",
    "\n",
    "# Filter rows where the action was taken (meaning QTY is more than zero)\n",
    "df_actionable = df[df.QTY>0]\n",
    "\n",
    "# Print transaction\n",
    "if len(df_actionable)==0:\n",
    "    print(0)\n",
    "else:\n",
    "    print(len(df_actionable))\n",
    "    for index, row in df_actionable.iterrows():\n",
    "        print(row['name'], row['ACTION'], row['QTY'])\n",
    "    "
   ]
  },
  {
   "cell_type": "markdown",
   "metadata": {},
   "source": [
    "90 2 400\n",
    "iStreet 10 4.54 5.53 6.56 5.54 7.60\n",
    "HR 5 30.54 27.53 24.42 20.11 17.50"
   ]
  },
  {
   "cell_type": "markdown",
   "metadata": {},
   "source": [
    "# HackerRank upload #2"
   ]
  },
  {
   "cell_type": "code",
   "execution_count": 1,
   "metadata": {},
   "outputs": [
    {
     "name": "stdout",
     "output_type": "stream",
     "text": [
      "100 10 1\n",
      "CAL 0 124.81 118.07 127.2 127.78 128.44\n",
      "UCB 0 52.24 48.99 52.44 52.03 52.48\n",
      "RIT 0 129.23 142.48 103.12 101.41 110.49\n",
      "UCLA 0 9.01 27.8 27.78 28.22 32.43\n",
      "USC 0 248.35 248.92 235.43 229.59 235.35\n",
      "UFL 0 31 30.71 30.15 32.68 32.78\n",
      "UMAD 0 130.15 149.47 105.53 142.96 105.68\n",
      "RICE 0 121.86 127.12 117.78 125.38 124.22\n",
      "UMD 0 97.83 104.11 95.66 98.36 103.2\n",
      "UCSC 0 189.91 161.72 246.45 167.24 210.18\n",
      "0\n"
     ]
    }
   ],
   "source": [
    "import pandas as pd\n",
    "\n",
    "# Take first line of input, it contains useful info.\n",
    "info = input().split()\n",
    "m = float(info[0])  # m - the amount of money you could spend that day.\n",
    "k = int(info[1])  # k - the number of different stocks available for buying or selling.\n",
    "d = int(info[2])  # d - the number of remaining days for trading stocks.\n",
    "\n",
    "inpt = [input().split() for line in range(k)]\n",
    "\n",
    "# Formatting updates.\n",
    "\n",
    "for i in range(k):\n",
    "    for j in range(2,7):\n",
    "        inpt[i][j] = float(inpt[i][j])\n",
    "    \n",
    "    inpt[i][1] = int(inpt[i][1])\n",
    "\n",
    "        \n",
    "\n",
    "# Check if there's a list to store the historical prices.\n",
    "# If not - create new one.\n",
    "try:\n",
    "    len(history)>0\n",
    "    for i in range(len(history)):\n",
    "        history[i].append(inpt[i][-1])  \n",
    "except:\n",
    "    history = [sublist[2:] for sublist in inpt]\n",
    "\n",
    "\n",
    "    \n",
    "# Function calculating slope of the price history.\n",
    "def Slope_calc(lst):\n",
    "    import numpy as np    \n",
    "    # create sequential array representing days\n",
    "    days = np.arange(len(lst))\n",
    "    # Use numpy method polyfit() with degree '1' to get the slope value\n",
    "    fit = np.polyfit(days, lst, 1)\n",
    "     \n",
    "    return(fit[0])\n",
    "\n",
    "\n",
    "# Creating dataframe for decision making                  \n",
    "tmp_lst = []\n",
    "for i in range(len(inpt)):\n",
    "    tmp_lst.append( [inpt[i][0], inpt[i][1],inpt[i][6], round(Slope_calc(history[i]),4)] )\n",
    "df = pd.DataFrame(tmp_lst, columns=['name', 'owned', 'today price', 'slope'])\n",
    "# Adding ACTION and QTY columns:\n",
    "df['ACTION'] = ''\n",
    "df['QTY'] = 0\n",
    "\n",
    "\n",
    "# Sort by descending slope meaning the more valueable stock to buy.\n",
    "df = df.sort_values(by=['slope'], ascending = False).reset_index(drop=True)\n",
    "\n",
    "def Actions(df, m):\n",
    "    for index, row in df.iterrows():\n",
    "        if row['slope'] > 0:\n",
    "            if m//row['today price'] > 0:\n",
    "                df.at[index,'ACTION'] = 'BUY'\n",
    "                df.at[index,'QTY'] = m//row['today price']\n",
    "                m -=  row['today price'] * (m//row['today price'])\n",
    "                m = round(m,2)\n",
    "        if row['slope'] < 0:\n",
    "            if row['owned'] > 0:\n",
    "                df.at[index,'ACTION'] = 'SELL'\n",
    "                df.at[index,'QTY'] = int(row['owned'])\n",
    "\n",
    "Actions(df, m)\n",
    "\n",
    "\n",
    "# Filter rows where the action was taken (meaning QTY is more than zero)\n",
    "df_actionable = df[df.QTY>0]\n",
    "\n",
    "# Print transaction\n",
    "print(len(df_actionable))\n",
    "for index, row in df_actionable.iterrows():\n",
    "    print(row['name'], row['ACTION'], row['QTY'])"
   ]
  },
  {
   "cell_type": "code",
   "execution_count": null,
   "metadata": {},
   "outputs": [],
   "source": []
  }
 ],
 "metadata": {
  "kernelspec": {
   "display_name": "Python 3",
   "language": "python",
   "name": "python3"
  },
  "language_info": {
   "codemirror_mode": {
    "name": "ipython",
    "version": 3
   },
   "file_extension": ".py",
   "mimetype": "text/x-python",
   "name": "python",
   "nbconvert_exporter": "python",
   "pygments_lexer": "ipython3",
   "version": "3.7.4"
  }
 },
 "nbformat": 4,
 "nbformat_minor": 2
}
