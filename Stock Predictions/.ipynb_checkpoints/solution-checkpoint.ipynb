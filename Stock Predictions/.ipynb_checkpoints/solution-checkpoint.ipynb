{
 "cells": [
  {
   "cell_type": "code",
   "execution_count": 1,
   "metadata": {},
   "outputs": [],
   "source": [
    "# Bigger dataset available here http://s3.amazonaws.com/hr-testcases-us-east-1/329/assets/bigger_data_set.txt"
   ]
  },
  {
   "cell_type": "markdown",
   "metadata": {},
   "source": [
    "The first line contains three space separated numbers m k d.\n",
    "* m - the amount of money you could spend that day.\n",
    "* k - the number of different stocks available for buying or selling.\n",
    "* d - the number of remaining days for trading stocks.\n",
    "\n",
    "k lines follow, each in the following format: name owned prices\n",
    "* name - the name of the stock (a string).\n",
    "* owned - the number of shares you own of that stock.\n",
    "* prices - 5 space separated numbers representing the stock's price for the last 5 days. These are ordered from oldest to newest, so the last number is the current stock price."
   ]
  },
  {
   "cell_type": "markdown",
   "metadata": {},
   "source": [
    "Sample input\n",
    "\n",
    "90 2 400\n",
    "\n",
    "iStreet 10 4.54 5.53 6.56 5.54 7.60\n",
    "\n",
    "HR 5 30.54 27.53 24.42 20.11 17.50"
   ]
  },
  {
   "cell_type": "code",
   "execution_count": 2,
   "metadata": {},
   "outputs": [],
   "source": [
    "import pandas as pd"
   ]
  },
  {
   "cell_type": "code",
   "execution_count": 3,
   "metadata": {
    "scrolled": true
   },
   "outputs": [
    {
     "name": "stdout",
     "output_type": "stream",
     "text": [
      "90 2 400\n"
     ]
    }
   ],
   "source": [
    "# Take first line of input, it contains useful info.\n",
    "info = input().split()\n",
    "m_today = float(info[0])  # m - the amount of money you could spend that day.\n",
    "k = int(info[1])  # k - the number of different stocks available for buying or selling.\n",
    "d = int(info[2])  # d - the number of remaining days for trading stocks."
   ]
  },
  {
   "cell_type": "code",
   "execution_count": 4,
   "metadata": {
    "scrolled": true
   },
   "outputs": [
    {
     "name": "stdout",
     "output_type": "stream",
     "text": [
      "iStreet 10 4.54 5.53 6.56 5.54 7.60\n",
      "HR 5 30.54 27.53 24.42 20.11 17.50\n"
     ]
    }
   ],
   "source": [
    "inpt = [input().split() for line in range(k)]"
   ]
  },
  {
   "cell_type": "code",
   "execution_count": 5,
   "metadata": {},
   "outputs": [
    {
     "data": {
      "text/plain": [
       "[['iStreet', 10, 4.54, 5.53, 6.56, 5.54, 7.6],\n",
       " ['HR', 5, 30.54, 27.53, 24.42, 20.11, 17.5]]"
      ]
     },
     "execution_count": 5,
     "metadata": {},
     "output_type": "execute_result"
    }
   ],
   "source": [
    "for i in range(k):\n",
    "    for j in range(2,7):\n",
    "        inpt[i][j] = float(inpt[i][j])\n",
    "    \n",
    "    inpt[i][1] = int(inpt[i][1])\n",
    "\n",
    "        \n",
    "inpt"
   ]
  },
  {
   "cell_type": "code",
   "execution_count": 6,
   "metadata": {
    "scrolled": true
   },
   "outputs": [
    {
     "data": {
      "text/plain": [
       "<matplotlib.axes._subplots.AxesSubplot at 0x7fd7568a1e90>"
      ]
     },
     "execution_count": 6,
     "metadata": {},
     "output_type": "execute_result"
    }
   ],
   "source": [
    "# Plot the price fluctuation for the first stock.\n",
    "\n",
    "pd.Series(inpt[0][2:]).plot.line()"
   ]
  },
  {
   "cell_type": "code",
   "execution_count": 7,
   "metadata": {},
   "outputs": [],
   "source": [
    "def Slope_calc(lst):\n",
    "    import numpy as np\n",
    "    \n",
    "    name = lst[0]\n",
    "    owned = lst[1]\n",
    "    prices = lst[2:]\n",
    "    \n",
    "    # create sequential array representing days\n",
    "    days = np.arange(5)\n",
    "    # Use numpy method polyfit() with degree '1' to get the slope value\n",
    "    fit = np.polyfit(days, prices, 1)\n",
    "    \n",
    "    \n",
    "    return([name, owned, prices[-1], fit[0]])"
   ]
  },
  {
   "cell_type": "code",
   "execution_count": 8,
   "metadata": {
    "scrolled": false
   },
   "outputs": [
    {
     "data": {
      "text/html": [
       "<div>\n",
       "<style scoped>\n",
       "    .dataframe tbody tr th:only-of-type {\n",
       "        vertical-align: middle;\n",
       "    }\n",
       "\n",
       "    .dataframe tbody tr th {\n",
       "        vertical-align: top;\n",
       "    }\n",
       "\n",
       "    .dataframe thead th {\n",
       "        text-align: right;\n",
       "    }\n",
       "</style>\n",
       "<table border=\"1\" class=\"dataframe\">\n",
       "  <thead>\n",
       "    <tr style=\"text-align: right;\">\n",
       "      <th></th>\n",
       "      <th>name</th>\n",
       "      <th>owned</th>\n",
       "      <th>today price</th>\n",
       "      <th>slope</th>\n",
       "      <th>ACTION</th>\n",
       "      <th>QTY</th>\n",
       "    </tr>\n",
       "  </thead>\n",
       "  <tbody>\n",
       "    <tr>\n",
       "      <td>0</td>\n",
       "      <td>iStreet</td>\n",
       "      <td>10</td>\n",
       "      <td>7.6</td>\n",
       "      <td>0.613</td>\n",
       "      <td></td>\n",
       "      <td>0</td>\n",
       "    </tr>\n",
       "    <tr>\n",
       "      <td>1</td>\n",
       "      <td>HR</td>\n",
       "      <td>5</td>\n",
       "      <td>17.5</td>\n",
       "      <td>-3.350</td>\n",
       "      <td></td>\n",
       "      <td>0</td>\n",
       "    </tr>\n",
       "  </tbody>\n",
       "</table>\n",
       "</div>"
      ],
      "text/plain": [
       "      name  owned  today price  slope ACTION  QTY\n",
       "0  iStreet     10          7.6  0.613           0\n",
       "1       HR      5         17.5 -3.350           0"
      ]
     },
     "execution_count": 8,
     "metadata": {},
     "output_type": "execute_result"
    }
   ],
   "source": [
    "# Creating dataframe for decision making                  \n",
    "tmp_lst = []\n",
    "for i in range(len(inpt)):\n",
    "    tmp_lst.append(Slope_calc(inpt[i]))\n",
    "\n",
    "df = pd.DataFrame(tmp_lst, columns=['name', 'owned', 'today price', 'slope'])\n",
    "\n",
    "# Adding ACTION and QTY columns:\n",
    "df['ACTION'] = ''\n",
    "df['QTY'] = 0\n",
    "\n",
    "\n",
    "# Sort by descending slope meaning the more valueable stock to buy.\n",
    "df.sort_values(by=['slope'], ascending = False)"
   ]
  },
  {
   "cell_type": "code",
   "execution_count": 9,
   "metadata": {},
   "outputs": [],
   "source": [
    "def Actions(df, m_today):\n",
    "    for index, row in df.iterrows():\n",
    "        if row['slope'] > 0:\n",
    "            if m_today//row['today price'] > 0:\n",
    "                df.at[index,'ACTION'] = 'BUY'\n",
    "                df.at[index,'QTY'] = m_today//row['today price']\n",
    "                m_today -=  row['today price'] * (m_today//row['today price'])\n",
    "                m_today = round(m_today,2)\n",
    "        if row['slope'] < 0:\n",
    "            if row['owned'] > 0:\n",
    "                df.at[index,'ACTION'] = 'SELL'\n",
    "                df.at[index,'QTY'] = int(row['owned'])"
   ]
  },
  {
   "cell_type": "code",
   "execution_count": 10,
   "metadata": {
    "scrolled": false
   },
   "outputs": [],
   "source": [
    "Actions(df, 90)"
   ]
  },
  {
   "cell_type": "code",
   "execution_count": 11,
   "metadata": {},
   "outputs": [
    {
     "data": {
      "text/html": [
       "<div>\n",
       "<style scoped>\n",
       "    .dataframe tbody tr th:only-of-type {\n",
       "        vertical-align: middle;\n",
       "    }\n",
       "\n",
       "    .dataframe tbody tr th {\n",
       "        vertical-align: top;\n",
       "    }\n",
       "\n",
       "    .dataframe thead th {\n",
       "        text-align: right;\n",
       "    }\n",
       "</style>\n",
       "<table border=\"1\" class=\"dataframe\">\n",
       "  <thead>\n",
       "    <tr style=\"text-align: right;\">\n",
       "      <th></th>\n",
       "      <th>name</th>\n",
       "      <th>owned</th>\n",
       "      <th>today price</th>\n",
       "      <th>slope</th>\n",
       "      <th>ACTION</th>\n",
       "      <th>QTY</th>\n",
       "    </tr>\n",
       "  </thead>\n",
       "  <tbody>\n",
       "    <tr>\n",
       "      <td>0</td>\n",
       "      <td>iStreet</td>\n",
       "      <td>10</td>\n",
       "      <td>7.6</td>\n",
       "      <td>0.613</td>\n",
       "      <td>BUY</td>\n",
       "      <td>11</td>\n",
       "    </tr>\n",
       "    <tr>\n",
       "      <td>1</td>\n",
       "      <td>HR</td>\n",
       "      <td>5</td>\n",
       "      <td>17.5</td>\n",
       "      <td>-3.350</td>\n",
       "      <td>SELL</td>\n",
       "      <td>5</td>\n",
       "    </tr>\n",
       "  </tbody>\n",
       "</table>\n",
       "</div>"
      ],
      "text/plain": [
       "      name  owned  today price  slope ACTION  QTY\n",
       "0  iStreet     10          7.6  0.613    BUY   11\n",
       "1       HR      5         17.5 -3.350   SELL    5"
      ]
     },
     "execution_count": 11,
     "metadata": {},
     "output_type": "execute_result"
    }
   ],
   "source": [
    "df"
   ]
  },
  {
   "cell_type": "code",
   "execution_count": 12,
   "metadata": {
    "scrolled": false
   },
   "outputs": [
    {
     "name": "stdout",
     "output_type": "stream",
     "text": [
      "2\n",
      "iStreet BUY 11\n",
      "HR SELL 5\n"
     ]
    }
   ],
   "source": [
    "# Filter rows where the action was taken (meaning QTY is more than zero)\n",
    "df_actionable = df[df.QTY>0]\n",
    "\n",
    "# Print transaction\n",
    "print(len(df_actionable))\n",
    "for index, row in df_actionable.iterrows():\n",
    "    print(row['name'], row['ACTION'], row['QTY'])"
   ]
  },
  {
   "cell_type": "markdown",
   "metadata": {},
   "source": [
    "# HackerRank upload"
   ]
  },
  {
   "cell_type": "code",
   "execution_count": 13,
   "metadata": {},
   "outputs": [
    {
     "name": "stdout",
     "output_type": "stream",
     "text": [
      "90 2 400\n",
      "iStreet 10 4.54 5.53 6.56 5.54 7.60\n",
      "HR 5 30.54 27.53 24.42 20.11 17.50\n",
      "2\n",
      "iStreet BUY 11\n",
      "HR SELL 5\n"
     ]
    }
   ],
   "source": [
    "import pandas as pd\n",
    "\n",
    "# Take first line of input, it contains useful info.\n",
    "info = input().split()\n",
    "m_today = float(info[0])  # m - the amount of money you could spend that day.\n",
    "k = int(info[1])  # k - the number of different stocks available for buying or selling.\n",
    "d = int(info[2])  # d - the number of remaining days for trading stocks.\n",
    "\n",
    "# Taking the rest of input\n",
    "inpt = [input().split() for line in range(k)]\n",
    "\n",
    "# Formatting the numbers\n",
    "for i in range(k):\n",
    "    for j in range(2,7):\n",
    "        inpt[i][j] = float(inpt[i][j])\n",
    "    \n",
    "    inpt[i][1] = int(inpt[i][1])\n",
    "\n",
    "# Function calculating the slope of prices change.\n",
    "\n",
    "def Slope_calc(lst):\n",
    "    import numpy as np\n",
    "    \n",
    "    name = lst[0]\n",
    "    owned = lst[1]\n",
    "    prices = lst[2:]\n",
    "    \n",
    "    # create sequential array representing days\n",
    "    days = np.arange(5)\n",
    "    # Use numpy method polyfit() with degree '1' to get the slope value\n",
    "    fit = np.polyfit(days, prices, 1)\n",
    "    \n",
    "    \n",
    "    return([name, owned, prices[-1], fit[0]])\n",
    "\n",
    "# Creating dataframe for decision making                  \n",
    "\n",
    "tmp_lst = []\n",
    "for i in range(len(inpt)):\n",
    "    tmp_lst.append(Slope_calc(inpt[i]))\n",
    "\n",
    "df = pd.DataFrame(tmp_lst, columns=['name', 'owned', 'today price', 'slope'])\n",
    "\n",
    "# Adding ACTION and QTY columns:\n",
    "df['ACTION'] = ''\n",
    "df['QTY'] = 0\n",
    "\n",
    "# Sort by descending slope meaning the more valueable stock to buy.\n",
    "df.sort_values(by=['slope'], ascending = False)\n",
    "\n",
    "# Function to make BUY/SELL decisions.\n",
    "# When slope is positive - BUY, when negative - SELL.\n",
    "\n",
    "def Actions(df, m_today):\n",
    "    for index, row in df.iterrows():\n",
    "        if row['slope'] > 0:\n",
    "            if m_today//row['today price'] != 0:\n",
    "                df.at[index,'ACTION'] = 'BUY'\n",
    "                df.at[index,'QTY'] = m_today//row['today price']\n",
    "                m_today -=  row['today price'] * (m_today//row['today price'])\n",
    "                m_today = round(m_today,2)\n",
    "        if row['slope'] < 0:\n",
    "            if row['owned'] > 0:\n",
    "                df.at[index,'ACTION'] = 'SELL'\n",
    "                df.at[index,'QTY'] = int(row['owned'])\n",
    "\n",
    "Actions(df, m_today)\n",
    "\n",
    "# Filter rows where the action was taken (meaning QTY is more than zero)\n",
    "df_actionable = df[df.QTY>0]\n",
    "\n",
    "# Print transaction\n",
    "if len(df_actionable)==0:\n",
    "    print(0)\n",
    "else:\n",
    "    print(len(df_actionable))\n",
    "    for index, row in df_actionable.iterrows():\n",
    "        print(row['name'], row['ACTION'], row['QTY'])\n",
    "    "
   ]
  },
  {
   "cell_type": "markdown",
   "metadata": {},
   "source": [
    "90 2 400\n",
    "iStreet 10 4.54 5.53 6.56 5.54 7.60\n",
    "HR 5 30.54 27.53 24.42 20.11 17.50"
   ]
  }
 ],
 "metadata": {
  "kernelspec": {
   "display_name": "Python 3",
   "language": "python",
   "name": "python3"
  },
  "language_info": {
   "codemirror_mode": {
    "name": "ipython",
    "version": 3
   },
   "file_extension": ".py",
   "mimetype": "text/x-python",
   "name": "python",
   "nbconvert_exporter": "python",
   "pygments_lexer": "ipython3",
   "version": "3.7.4"
  }
 },
 "nbformat": 4,
 "nbformat_minor": 2
}
