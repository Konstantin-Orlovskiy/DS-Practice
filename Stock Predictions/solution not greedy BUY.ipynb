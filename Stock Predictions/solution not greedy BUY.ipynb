{
 "cells": [
  {
   "cell_type": "code",
   "execution_count": null,
   "metadata": {},
   "outputs": [],
   "source": [
    "# Bigger dataset available here http://s3.amazonaws.com/hr-testcases-us-east-1/329/assets/bigger_data_set.txt"
   ]
  },
  {
   "cell_type": "markdown",
   "metadata": {},
   "source": [
    "The first line contains three space separated numbers m k d.\n",
    "* m - the amount of money you could spend that day.\n",
    "* k - the number of different stocks available for buying or selling.\n",
    "* d - the number of remaining days for trading stocks.\n",
    "\n",
    "k lines follow, each in the following format: name owned prices\n",
    "* name - the name of the stock (a string).\n",
    "* owned - the number of shares you own of that stock.\n",
    "* prices - 5 space separated numbers representing the stock's price for the last 5 days. These are ordered from oldest to newest, so the last number is the current stock price."
   ]
  },
  {
   "cell_type": "markdown",
   "metadata": {},
   "source": [
    "Sample input\n",
    "\n",
    "100 4 400\n",
    "\n",
    "AA 10 10.01 15.01 20.01 25.01 30.01\n",
    "\n",
    "BB 5 10.01 20.01 30.01 40.01 50.01\n",
    "\n",
    "CC 6 10.01 9.01 8.01 7.01 6.01\n",
    "\n",
    "DD 7 10.01 8.01 6.01 4.01 2.01"
   ]
  },
  {
   "cell_type": "code",
   "execution_count": 1,
   "metadata": {},
   "outputs": [],
   "source": [
    "import pandas as pd"
   ]
  },
  {
   "cell_type": "code",
   "execution_count": 2,
   "metadata": {
    "scrolled": true
   },
   "outputs": [
    {
     "name": "stdout",
     "output_type": "stream",
     "text": [
      "100 4 400\n"
     ]
    }
   ],
   "source": [
    "# Take first line of input, it contains useful info.\n",
    "info = input().split()\n",
    "m = float(info[0])  # m - the amount of money you could spend that day.\n",
    "k = int(info[1])  # k - the number of different stocks available for buying or selling.\n",
    "d = int(info[2])  # d - the number of remaining days for trading stocks."
   ]
  },
  {
   "cell_type": "code",
   "execution_count": 3,
   "metadata": {
    "scrolled": true
   },
   "outputs": [
    {
     "name": "stdout",
     "output_type": "stream",
     "text": [
      "AA 10 10.01 15.01 20.01 25.01 30.01\n",
      "BB 5 10.01 20.01 30.01 40.01 50.01\n",
      "CC 6 10.01 9.01 8.01 7.01 6.01\n",
      "DD 7 10.01 8.01 6.01 4.01 2.01\n"
     ]
    }
   ],
   "source": [
    "# Take input info about the stocks .\n",
    "inpt = [input().split()for line in range(k)]"
   ]
  },
  {
   "cell_type": "code",
   "execution_count": 4,
   "metadata": {},
   "outputs": [
    {
     "data": {
      "text/plain": [
       "[['AA', 10, 10.01, 15.01, 20.01, 25.01, 30.01],\n",
       " ['BB', 5, 10.01, 20.01, 30.01, 40.01, 50.01],\n",
       " ['CC', 6, 10.01, 9.01, 8.01, 7.01, 6.01],\n",
       " ['DD', 7, 10.01, 8.01, 6.01, 4.01, 2.01]]"
      ]
     },
     "execution_count": 4,
     "metadata": {},
     "output_type": "execute_result"
    }
   ],
   "source": [
    "# Formatting updates.\n",
    "for i in range(k):\n",
    "    for j in range(2,7):\n",
    "        inpt[i][j] = float(inpt[i][j])   \n",
    "    inpt[i][1] = int(inpt[i][1])\n",
    "\n",
    "        \n",
    "inpt"
   ]
  },
  {
   "cell_type": "code",
   "execution_count": 5,
   "metadata": {},
   "outputs": [],
   "source": [
    "def Slope_calc(lst):\n",
    "    import numpy as np\n",
    "    \n",
    "    name = lst[0]\n",
    "    owned = lst[1]\n",
    "    prices = lst[2:]\n",
    "    \n",
    "    # create sequential array representing days\n",
    "    days = np.arange(5)\n",
    "    # Use numpy method polyfit() with degree '1' to get the slope value\n",
    "    fit = np.polyfit(days, prices, 1)\n",
    "    \n",
    "    \n",
    "    return([name, owned, prices[-1], fit[0]])"
   ]
  },
  {
   "cell_type": "code",
   "execution_count": 6,
   "metadata": {
    "scrolled": false
   },
   "outputs": [],
   "source": [
    "# Creating dataframe for decision making                  \n",
    "\n",
    "tmp_lst = []\n",
    "for i in range(len(inpt)):\n",
    "    tmp_lst.append(Slope_calc(inpt[i]))\n",
    "\n",
    "df = pd.DataFrame(tmp_lst, columns=['name', 'owned', 'today price', 'slope'])\n",
    "\n",
    "# Adding ACTION and QTY columns:\n",
    "df['ACTION'] = ''\n",
    "df['QTY'] = 0\n",
    "\n",
    "# Sort by descending slope meaning the more valueable stock to buy.\n",
    "df = df.sort_values(by=['slope'], ascending = False)"
   ]
  },
  {
   "cell_type": "code",
   "execution_count": 7,
   "metadata": {},
   "outputs": [
    {
     "data": {
      "text/html": [
       "<div>\n",
       "<style scoped>\n",
       "    .dataframe tbody tr th:only-of-type {\n",
       "        vertical-align: middle;\n",
       "    }\n",
       "\n",
       "    .dataframe tbody tr th {\n",
       "        vertical-align: top;\n",
       "    }\n",
       "\n",
       "    .dataframe thead th {\n",
       "        text-align: right;\n",
       "    }\n",
       "</style>\n",
       "<table border=\"1\" class=\"dataframe\">\n",
       "  <thead>\n",
       "    <tr style=\"text-align: right;\">\n",
       "      <th></th>\n",
       "      <th>name</th>\n",
       "      <th>owned</th>\n",
       "      <th>today price</th>\n",
       "      <th>slope</th>\n",
       "      <th>ACTION</th>\n",
       "      <th>QTY</th>\n",
       "    </tr>\n",
       "  </thead>\n",
       "  <tbody>\n",
       "    <tr>\n",
       "      <td>1</td>\n",
       "      <td>BB</td>\n",
       "      <td>5</td>\n",
       "      <td>50.01</td>\n",
       "      <td>10.0</td>\n",
       "      <td></td>\n",
       "      <td>0</td>\n",
       "    </tr>\n",
       "    <tr>\n",
       "      <td>0</td>\n",
       "      <td>AA</td>\n",
       "      <td>10</td>\n",
       "      <td>30.01</td>\n",
       "      <td>5.0</td>\n",
       "      <td></td>\n",
       "      <td>0</td>\n",
       "    </tr>\n",
       "    <tr>\n",
       "      <td>2</td>\n",
       "      <td>CC</td>\n",
       "      <td>6</td>\n",
       "      <td>6.01</td>\n",
       "      <td>-1.0</td>\n",
       "      <td></td>\n",
       "      <td>0</td>\n",
       "    </tr>\n",
       "    <tr>\n",
       "      <td>3</td>\n",
       "      <td>DD</td>\n",
       "      <td>7</td>\n",
       "      <td>2.01</td>\n",
       "      <td>-2.0</td>\n",
       "      <td></td>\n",
       "      <td>0</td>\n",
       "    </tr>\n",
       "  </tbody>\n",
       "</table>\n",
       "</div>"
      ],
      "text/plain": [
       "  name  owned  today price  slope ACTION  QTY\n",
       "1   BB      5        50.01   10.0           0\n",
       "0   AA     10        30.01    5.0           0\n",
       "2   CC      6         6.01   -1.0           0\n",
       "3   DD      7         2.01   -2.0           0"
      ]
     },
     "execution_count": 7,
     "metadata": {},
     "output_type": "execute_result"
    }
   ],
   "source": [
    "df"
   ]
  },
  {
   "cell_type": "code",
   "execution_count": 8,
   "metadata": {
    "scrolled": true
   },
   "outputs": [
    {
     "data": {
      "text/html": [
       "<div>\n",
       "<style scoped>\n",
       "    .dataframe tbody tr th:only-of-type {\n",
       "        vertical-align: middle;\n",
       "    }\n",
       "\n",
       "    .dataframe tbody tr th {\n",
       "        vertical-align: top;\n",
       "    }\n",
       "\n",
       "    .dataframe thead th {\n",
       "        text-align: right;\n",
       "    }\n",
       "</style>\n",
       "<table border=\"1\" class=\"dataframe\">\n",
       "  <thead>\n",
       "    <tr style=\"text-align: right;\">\n",
       "      <th></th>\n",
       "      <th>name</th>\n",
       "      <th>owned</th>\n",
       "      <th>today price</th>\n",
       "      <th>slope</th>\n",
       "      <th>ACTION</th>\n",
       "      <th>QTY</th>\n",
       "    </tr>\n",
       "  </thead>\n",
       "  <tbody>\n",
       "    <tr>\n",
       "      <td>1</td>\n",
       "      <td>BB</td>\n",
       "      <td>5</td>\n",
       "      <td>50.01</td>\n",
       "      <td>10.0</td>\n",
       "      <td>BUY</td>\n",
       "      <td>1</td>\n",
       "    </tr>\n",
       "    <tr>\n",
       "      <td>0</td>\n",
       "      <td>AA</td>\n",
       "      <td>10</td>\n",
       "      <td>30.01</td>\n",
       "      <td>5.0</td>\n",
       "      <td>BUY</td>\n",
       "      <td>3</td>\n",
       "    </tr>\n",
       "    <tr>\n",
       "      <td>2</td>\n",
       "      <td>CC</td>\n",
       "      <td>6</td>\n",
       "      <td>6.01</td>\n",
       "      <td>-1.0</td>\n",
       "      <td>SELL</td>\n",
       "      <td>6</td>\n",
       "    </tr>\n",
       "    <tr>\n",
       "      <td>3</td>\n",
       "      <td>DD</td>\n",
       "      <td>7</td>\n",
       "      <td>2.01</td>\n",
       "      <td>-2.0</td>\n",
       "      <td>SELL</td>\n",
       "      <td>7</td>\n",
       "    </tr>\n",
       "  </tbody>\n",
       "</table>\n",
       "</div>"
      ],
      "text/plain": [
       "  name  owned  today price  slope ACTION  QTY\n",
       "1   BB      5        50.01   10.0    BUY    1\n",
       "0   AA     10        30.01    5.0    BUY    3\n",
       "2   CC      6         6.01   -1.0   SELL    6\n",
       "3   DD      7         2.01   -2.0   SELL    7"
      ]
     },
     "execution_count": 8,
     "metadata": {},
     "output_type": "execute_result"
    }
   ],
   "source": [
    "# This is attempt to control greediness of the algorithm spending all money on stock with the highest slope.\n",
    "# Calculate positive slope weights as ratio to sum of all positive slope values.\n",
    "\n",
    "for index, row in df.iterrows():\n",
    "    money_coeff = m\n",
    "    if row['slope'] > 0:\n",
    "        df.at[index,'ACTION'] = 'BUY'\n",
    "        df.at[index,'QTY'] = ( money_coeff*row['slope']/sum(df['slope'][df.slope>0]) ) // row['today price']\n",
    "        m -= row['today price'] * row['QTY']\n",
    "        \n",
    "    if row['slope'] < 0:\n",
    "            if row['owned'] > 0:\n",
    "                df.at[index,'ACTION'] = 'SELL'\n",
    "                df.at[index,'QTY'] = int(row['owned'])\n",
    "    \n",
    "    if m>0 and row['slope'] > 0:\n",
    "        df.at[index,'QTY'] = row['QTY'] + m//row['today price']\n",
    "        m -= row['QTY'] * row['today price']\n",
    "\n",
    "df"
   ]
  },
  {
   "cell_type": "code",
   "execution_count": 9,
   "metadata": {
    "scrolled": true
   },
   "outputs": [
    {
     "name": "stdout",
     "output_type": "stream",
     "text": [
      "4\n",
      "BB BUY 1\n",
      "AA BUY 3\n",
      "CC SELL 6\n",
      "DD SELL 7\n"
     ]
    }
   ],
   "source": [
    "# Filter rows where the action was taken (meaning QTY is more than zero)\n",
    "df_actionable = df[df.QTY>0]\n",
    "\n",
    "# Print transaction\n",
    "print(len(df_actionable))\n",
    "for index, row in df_actionable.iterrows():\n",
    "    print(row['name'], row['ACTION'], row['QTY'])"
   ]
  },
  {
   "cell_type": "markdown",
   "metadata": {},
   "source": [
    "# HackerRank upload"
   ]
  },
  {
   "cell_type": "code",
   "execution_count": null,
   "metadata": {},
   "outputs": [],
   "source": [
    "import pandas as pd\n",
    "\n",
    "# Take first line of input, it contains useful info.\n",
    "info = input().split()\n",
    "m = float(info[0])  # m - the amount of money you could spend that day.\n",
    "k = int(info[1])  # k - the number of different stocks available for buying or selling.\n",
    "d = int(info[2])  # d - the number of remaining days for trading stocks.\n",
    "\n",
    "# Take input info about the stocks .\n",
    "inpt = [input().split()for line in range(k)]\n",
    "\n",
    "# Formatting updates.\n",
    "for i in range(k):\n",
    "    for j in range(2,7):\n",
    "        inpt[i][j] = float(inpt[i][j])    \n",
    "    inpt[i][1] = int(inpt[i][1])\n",
    "\n",
    "        \n",
    "\n",
    "def Slope_calc(lst):\n",
    "    import numpy as np\n",
    "    \n",
    "    name = lst[0]\n",
    "    owned = lst[1]\n",
    "    prices = lst[2:]\n",
    "    \n",
    "    # create sequential array representing days\n",
    "    days = np.arange(5)\n",
    "    # Use numpy method polyfit() with degree '1' to get the slope value\n",
    "    fit = np.polyfit(days, prices, 1)\n",
    "    \n",
    "    \n",
    "    return([name, owned, prices[-1], fit[0]])\n",
    "\n",
    "\n",
    "\n",
    "# Creating dataframe for decision making                  \n",
    "\n",
    "tmp_lst = []\n",
    "for i in range(len(inpt)):\n",
    "    tmp_lst.append(Slope_calc(inpt[i]))\n",
    "\n",
    "df = pd.DataFrame(tmp_lst, columns=['name', 'owned', 'today price', 'slope'])\n",
    "\n",
    "# Adding ACTION and QTY columns:\n",
    "df['ACTION'] = ''\n",
    "df['QTY'] = 0\n",
    "\n",
    "# Sort by descending slope meaning the more valueable stock to buy.\n",
    "df = df.sort_values(by=['slope'], ascending = False)\n",
    "\n",
    "\n",
    "\n",
    "# This is attempt to control greediness of the algorithm spending all money on stock with the highest slope.\n",
    "# Calculate positive slope weights as ratio to sum of all positive slope values.\n",
    "\n",
    "if d > 1:\n",
    "    for index, row in df.iterrows():\n",
    "        money_coeff = m\n",
    "        if row['slope'] > 0:\n",
    "            df.at[index,'ACTION'] = 'BUY'\n",
    "            df.at[index,'QTY'] = ( money_coeff*row['slope']/sum(df['slope'][df.slope>0]) ) // row['today price']\n",
    "            m -= row['today price'] * row['QTY']\n",
    "\n",
    "        if row['slope'] < 0:\n",
    "                if row['owned'] > 0:\n",
    "                    df.at[index,'ACTION'] = 'SELL'\n",
    "                    df.at[index,'QTY'] = int(row['owned'])\n",
    "\n",
    "        if m>0 and row['slope'] > 0:\n",
    "            df.at[index,'QTY'] = row['QTY'] + m//row['today price']\n",
    "            m -= row['QTY'] * row['today price']\n",
    "\n",
    "else:\n",
    "    for index, row in df.iterrows():\n",
    "        if row['owned'] > 0:\n",
    "            df.at[index,'ACTION'] = 'SELL'\n",
    "            df.at[index,'QTY'] = int(row['owned'])\n",
    "\n",
    "\n",
    "# Filter rows where the action was taken (meaning QTY is more than zero)\n",
    "df_actionable = df[df.QTY>0]\n",
    "\n",
    "\n",
    "# Print transaction\n",
    "print(len(df_actionable))\n",
    "for index, row in df_actionable.iterrows():\n",
    "    print(row['name'], row['ACTION'], row['QTY'])"
   ]
  },
  {
   "cell_type": "code",
   "execution_count": null,
   "metadata": {},
   "outputs": [],
   "source": [
    "df"
   ]
  },
  {
   "cell_type": "code",
   "execution_count": null,
   "metadata": {},
   "outputs": [],
   "source": [
    "100 10 20\n",
    "CAL 0 121.83 122.26 123.94 122.11 120.58\n",
    "UCB 0 52.34 50.89 47.62 51.16 52.4\n",
    "RIT 0 100.21 99.33 102.87 110.63 110.72\n",
    "UCLA 0 12.5 27.22 9.32 16.07 3.86\n",
    "USC 0 249.58 244.24 242.56 245.13 245.35\n",
    "UFL 0 20.21 19.77 21.34 20.21 21.17\n",
    "UMAD 0 109.39 120.49 131.35 127.97 121.38\n",
    "RICE 0 126.3 128 129.08 129.28 124.44\n",
    "UMD 0 102.96 103.62 98.22 96.6 99.1\n",
    "UCSC 0 213.77 193.51 178.53 180.08 208.29"
   ]
  },
  {
   "cell_type": "code",
   "execution_count": null,
   "metadata": {},
   "outputs": [],
   "source": []
  }
 ],
 "metadata": {
  "kernelspec": {
   "display_name": "Python 3",
   "language": "python",
   "name": "python3"
  },
  "language_info": {
   "codemirror_mode": {
    "name": "ipython",
    "version": 3
   },
   "file_extension": ".py",
   "mimetype": "text/x-python",
   "name": "python",
   "nbconvert_exporter": "python",
   "pygments_lexer": "ipython3",
   "version": "3.7.4"
  }
 },
 "nbformat": 4,
 "nbformat_minor": 2
}
