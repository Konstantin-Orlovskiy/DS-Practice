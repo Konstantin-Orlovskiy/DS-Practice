{
 "cells": [
  {
   "cell_type": "code",
   "execution_count": null,
   "metadata": {},
   "outputs": [],
   "source": [
    "import numpy as np\n",
    "\n",
    "from sklearn.linear_model import LinearRegression\n",
    "from sklearn.preprocessing import PolynomialFeatures\n",
    "\n",
    "\n",
    "Physics_Scores = [15, 12, 8, 8, 7, 7, 7, 6, 5, 3]\n",
    "Physics_Scores = [float(i) for i in Physics_Scores]\n",
    "\n",
    "History_Scores = [10, 25, 17, 11, 13, 17, 20, 13, 9, 15]\n",
    "History_Scores = [float(i) for i in History_Scores]\n",
    "\n",
    "poly_regr = PolynomialFeatures(degree=4)\n",
    "Physics_Scores_poly = poly_regr.fit_transform(np.array(Physics_Scores).reshape(-1,1))\n",
    "\n",
    "lr_poly = LinearRegression()\n",
    "lr_poly.fit(Physics_Scores_poly, History_Scores)\n",
    "\n",
    "test_input = float(input())\n",
    "lr_poly_predict = lr_poly.predict(poly_regr.fit_transform(np.array([test_input]).reshape(1,-1)))\n",
    "\n",
    "print(round(*lr_poly_predict,1))"
   ]
  }
 ],
 "metadata": {
  "kernelspec": {
   "display_name": "Python 3",
   "language": "python",
   "name": "python3"
  },
  "language_info": {
   "codemirror_mode": {
    "name": "ipython",
    "version": 3
   },
   "file_extension": ".py",
   "mimetype": "text/x-python",
   "name": "python",
   "nbconvert_exporter": "python",
   "pygments_lexer": "ipython3",
   "version": "3.7.4"
  }
 },
 "nbformat": 4,
 "nbformat_minor": 2
}
