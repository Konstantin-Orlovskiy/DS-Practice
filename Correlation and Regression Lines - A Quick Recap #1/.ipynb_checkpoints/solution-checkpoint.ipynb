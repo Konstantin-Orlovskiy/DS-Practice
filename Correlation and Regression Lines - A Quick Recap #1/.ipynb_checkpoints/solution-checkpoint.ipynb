{
 "cells": [
  {
   "cell_type": "markdown",
   "metadata": {},
   "source": [
    "Here are the test scores of 10 students in physics and history:\n",
    "\n",
    "Physics Scores  15  12  8   8   7   7   7   6   5   3\n",
    "\n",
    "History Scores  10  25  17  11  13  17  20  13  9   15\n",
    "\n",
    "Compute Karl Pearson’s coefficient of correlation between these scores. \n",
    "Compute the answer correct to three decimal places.\n",
    "\n",
    "\n",
    "***\n",
    "Pearson's correlation coefficient = covariance(X, Y) / (stdv(X) * stdv(Y))\n",
    "\n",
    "The coefficient returns a value between -1 and 1 that represents the limits of correlation from a full negative correlation to a full positive correlation. A value of 0 means no correlation. The value must be interpreted, where often a value below -0.5 or above 0.5 indicates a notable correlation, and values below those values suggests a less notable correlation.\n",
    "***"
   ]
  },
  {
   "cell_type": "code",
   "execution_count": 1,
   "metadata": {},
   "outputs": [],
   "source": [
    "p = [15, 12, 8, 8, 7, 7, 7, 6, 5, 3]"
   ]
  },
  {
   "cell_type": "code",
   "execution_count": 2,
   "metadata": {},
   "outputs": [],
   "source": [
    "h = [10, 25, 17, 11, 13, 17, 20, 13, 9, 15]"
   ]
  },
  {
   "cell_type": "code",
   "execution_count": 40,
   "metadata": {
    "scrolled": true
   },
   "outputs": [
    {
     "name": "stdout",
     "output_type": "stream",
     "text": [
      "7.8 11.733333333333336 3.4253953543107016\n"
     ]
    }
   ],
   "source": [
    "# Standard deviation S is a square root of Variance (S**2)\n",
    "# Variance is a sum of squared distances of each observation to the mean, divided by number of observations.\n",
    "# Need to divide by number of elements minus one as this will be the population variance or standard deviation.\n",
    "\n",
    "p_mean = sum(p)/len(p)\n",
    "p_variance = sum([((i-p_mean)**2) for i in p]) / (len(p)-1)\n",
    "p_stdv = p_variance**(1/2)\n",
    "print(p_mean, p_variance, p_stdv)"
   ]
  },
  {
   "cell_type": "code",
   "execution_count": 41,
   "metadata": {},
   "outputs": [
    {
     "name": "stdout",
     "output_type": "stream",
     "text": [
      "15.0 24.22222222222222 4.9216076867444665\n"
     ]
    }
   ],
   "source": [
    "h_mean = sum(h)/len(h)\n",
    "h_variance = sum([((i-h_mean)**2) for i in h]) / (len(h)-1)\n",
    "h_stdv = h_variance**(1/2)\n",
    "print(h_mean, h_variance, h_stdv)"
   ]
  },
  {
   "cell_type": "markdown",
   "metadata": {},
   "source": [
    "https://www.gstatic.com/education/formulas2/-1/en/covariance_formula.svg"
   ]
  },
  {
   "cell_type": "code",
   "execution_count": 65,
   "metadata": {},
   "outputs": [
    {
     "data": {
      "text/plain": [
       "2.444444444444444"
      ]
     },
     "execution_count": 65,
     "metadata": {},
     "output_type": "execute_result"
    }
   ],
   "source": [
    "covar_p_h = sum( [((p_val-p_mean)*(h_val-h_mean)) for p_val, h_val in zip(p,h)] ) / (len(p)-1)\n",
    "# Divison by number of pairs minus one\n",
    "\n",
    "covar_p_h"
   ]
  },
  {
   "cell_type": "code",
   "execution_count": 66,
   "metadata": {},
   "outputs": [
    {
     "name": "stdout",
     "output_type": "stream",
     "text": [
      "0.145\n"
     ]
    }
   ],
   "source": [
    "pierson = covar_p_h / (p_stdv*h_stdv)\n",
    "print(round(pierson,3))"
   ]
  },
  {
   "cell_type": "markdown",
   "metadata": {},
   "source": [
    "# Check whether the above is correct using built in functions."
   ]
  },
  {
   "cell_type": "code",
   "execution_count": 67,
   "metadata": {},
   "outputs": [
    {
     "name": "stdout",
     "output_type": "stream",
     "text": [
      "Pearsons correlation: 0.145 ; p-value: 0.689\n"
     ]
    }
   ],
   "source": [
    "# calculate the Pearson's correlation between two variables\n",
    "from scipy.stats import pearsonr\n",
    "import statistics\n",
    "\n",
    "corr, _ = pearsonr(p, h)\n",
    "print('Pearsons correlation: %.3f' % corr, '; p-value: %.3f' % _)"
   ]
  },
  {
   "cell_type": "code",
   "execution_count": 52,
   "metadata": {},
   "outputs": [
    {
     "name": "stdout",
     "output_type": "stream",
     "text": [
      "7.8 10.56 3.249615361854384\n"
     ]
    }
   ],
   "source": [
    "print(statistics.mean(p), statistics.pvariance(p), statistics.pstdev(p))"
   ]
  },
  {
   "cell_type": "code",
   "execution_count": 53,
   "metadata": {},
   "outputs": [
    {
     "name": "stdout",
     "output_type": "stream",
     "text": [
      "15 21.8 4.669047011971501\n"
     ]
    }
   ],
   "source": [
    "print(statistics.mean(h), statistics.pvariance(h), statistics.pstdev(h))"
   ]
  },
  {
   "cell_type": "code",
   "execution_count": 62,
   "metadata": {},
   "outputs": [
    {
     "name": "stdout",
     "output_type": "stream",
     "text": [
      "2.444444444444444\n"
     ]
    }
   ],
   "source": [
    "import numpy as np\n",
    "print(np.cov(p,h)[0,1])"
   ]
  },
  {
   "cell_type": "markdown",
   "metadata": {},
   "source": [
    "# Results are matching."
   ]
  }
 ],
 "metadata": {
  "kernelspec": {
   "display_name": "Python 3",
   "language": "python",
   "name": "python3"
  },
  "language_info": {
   "codemirror_mode": {
    "name": "ipython",
    "version": 3
   },
   "file_extension": ".py",
   "mimetype": "text/x-python",
   "name": "python",
   "nbconvert_exporter": "python",
   "pygments_lexer": "ipython3",
   "version": "3.7.4"
  }
 },
 "nbformat": 4,
 "nbformat_minor": 2
}
