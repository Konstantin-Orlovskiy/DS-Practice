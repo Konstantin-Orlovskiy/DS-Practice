{
 "cells": [
  {
   "cell_type": "code",
   "execution_count": 114,
   "metadata": {},
   "outputs": [],
   "source": [
    "import pandas as pd\n",
    "import numpy as np\n",
    "from numpy import fft"
   ]
  },
  {
   "cell_type": "code",
   "execution_count": 115,
   "metadata": {},
   "outputs": [
    {
     "data": {
      "text/plain": [
       "500"
      ]
     },
     "execution_count": 115,
     "metadata": {},
     "output_type": "execute_result"
    }
   ],
   "source": [
    "data = np.loadtxt('input01.txt', skiprows=1)\n",
    "data.size"
   ]
  },
  {
   "cell_type": "code",
   "execution_count": 162,
   "metadata": {},
   "outputs": [],
   "source": [
    "data = data.astype(int)"
   ]
  },
  {
   "cell_type": "code",
   "execution_count": 163,
   "metadata": {},
   "outputs": [
    {
     "data": {
      "text/plain": [
       "array([1339, 1462, 1702, 1656, 1439, 1208, 1613, 1935, 1964, 2003, 2023,\n",
       "       1559, 1274, 1805, 2051, 2024, 2049, 1998, 1441, 1257, 1559, 1643,\n",
       "       1464, 1521, 1576, 1381, 1372, 1610, 1926, 2018, 1930, 1868, 1551,\n",
       "       1471, 1954, 2079, 2061, 2001, 2031, 1574, 1165, 1366, 1384, 1342,\n",
       "       1543, 1509, 1598, 1349, 1625, 1932, 2079, 1857, 1443, 1332, 1149,\n",
       "       1471, 1595, 1498, 1433, 1401, 1178,  972, 1283, 1468, 1456, 1466,\n",
       "       1378, 1208, 1038, 1344, 1379, 1418, 1466, 1414, 1129,  948, 1285,\n",
       "       1373, 1379,  599,  614,  850,  672,  747,  732,  834,  996,  900,\n",
       "        792,  688,  781,  696,  834, 1026,  974, 1001,  997, 1110, 1212,\n",
       "       1301, 1322, 1253,  935,  857, 1082, 1112, 1291, 1391, 1384, 1089,\n",
       "        963, 1174, 1420, 1349, 1338, 1335, 1075,  952, 1376, 1586, 1571,\n",
       "       1543, 1525, 1223, 1066, 1555, 1704, 1745, 1749, 1687, 1288, 1152,\n",
       "       1492, 1728, 1742, 1732, 1510, 1288, 1280, 1659, 1852, 1823, 1723,\n",
       "       1416, 1187, 1014, 1324, 1618, 1736, 1552, 1598, 1158, 1083, 1383,\n",
       "       1595, 1540, 1551, 1447, 1128, 1057, 1371, 1746, 1653, 1726, 1759,\n",
       "       1297, 1165, 1480, 1693, 1744, 1661, 1575, 1199, 1062, 1395, 1555,\n",
       "       1441, 1399, 1381, 1287, 1151, 1394, 1660, 1761, 1874, 1863, 1544,\n",
       "       1340, 1707, 1983, 1785, 1725, 1765, 1520, 1274, 1763, 1793, 1853,\n",
       "       1861, 1733, 1575, 1304, 1793, 1886, 1832, 1993, 1805, 1521, 1332,\n",
       "       1813, 1833, 1633, 1682, 1699, 1392, 1249, 1601, 1827, 1755, 1560,\n",
       "       1181, 1039,  920, 1106, 1269, 1159, 1192, 1203, 1876, 1065, 1294,\n",
       "       1249, 1145, 1098, 1171,  996,  807, 1081, 1258, 1201, 1273, 1165,\n",
       "        944,  797,  948, 1160, 1387, 1364, 1061,  916,  901, 1047, 1107,\n",
       "       1234, 1290, 1027,  877,  629,  789,  977,  953,  983,  927,  870,\n",
       "        724,  824, 1015, 1062,  962, 1046,  766,  764,  876,  975,  917,\n",
       "        914, 1239, 1000,  753,  892, 1000, 1509, 1183,  955,  862,  659,\n",
       "        780,  916, 1010,  988, 1032,  856,  729,  917, 1038, 1146, 1228,\n",
       "       1210,  939,  913, 1045, 1131, 1076, 1068, 1073,  919,  809,  963,\n",
       "       1095, 1150,  950,  909,  889,  840, 1156, 1221, 1247, 1146, 1142,\n",
       "        969,  912, 1103, 1146, 1118, 1193, 1200, 1065,  908, 1491, 1968,\n",
       "       2100, 2402, 2489, 2110, 2046, 2288, 2835, 2620, 2467, 2262, 2046,\n",
       "       1711, 1960, 2241, 2383, 2463, 2289, 1847, 1654, 2040, 2473, 2492,\n",
       "       2501, 2566, 2284, 2063, 2655, 2878, 2957, 2710, 2526, 2105, 1782,\n",
       "       2242, 2520, 2246, 2378, 2545, 2154, 2022, 2711, 3142, 2952, 2882,\n",
       "       2766, 2104, 1745, 2043, 2495, 2555, 2572, 2723, 2276, 1936, 2472,\n",
       "       2800, 2843, 2670, 2769, 2267, 2213, 2695, 2801, 2608, 2418, 1940,\n",
       "       1610, 1459, 1972, 2292, 2573, 2630, 2448, 2022, 1869, 2313, 2551,\n",
       "       2653, 2595, 2373, 2088, 1954, 2374, 2780, 2674, 2675, 2445, 2095,\n",
       "       1806, 2279, 2639, 2616, 2152, 2055, 1775, 1682, 2151, 2386, 2519,\n",
       "       2381, 2394, 1832, 1729, 1953, 2224, 2164, 2121, 2103, 1693, 1557,\n",
       "       1859, 1884, 1949, 1861, 1727, 1489, 1197, 1385, 1412, 1165,  957,\n",
       "        475, 1301, 1148, 1272, 1333,  983, 1263, 1513, 1510, 1371, 1567,\n",
       "       1814, 1870, 2014, 1923, 1506, 1262, 1342, 1531, 1360, 1526, 1542,\n",
       "       1269, 1175, 1377, 1615, 1578, 1564, 1514, 1261, 1087, 1389, 1736,\n",
       "       1819, 1890, 1652, 1521, 1274, 1592, 1694, 1705, 1869, 1910, 1544,\n",
       "       1341, 1679, 1823, 1845, 1921])"
      ]
     },
     "execution_count": 163,
     "metadata": {},
     "output_type": "execute_result"
    }
   ],
   "source": [
    "data"
   ]
  },
  {
   "cell_type": "code",
   "execution_count": 164,
   "metadata": {},
   "outputs": [],
   "source": [
    "# Define function for Fourier extrapolation of given timeseries.\n",
    "\n",
    "\n",
    "def FFT(data, N_predictions):  # data is numpy array, N_predictions as integer.\n",
    "    \n",
    "    n = data.size\n",
    "    harmonics = 500  # Number of harmonics, the more harmonics the more complex signal can be described.\n",
    "    t = np.arange(0, n)  # Array immitating the sequential time.\n",
    "    p = np.polyfit(t, data, 1)  # In arguments \"1\" means fitting the linear trend to historical data: (kx + b)\n",
    "\n",
    "    # Removing trend from the data. It's like descaling according intercept by time.\n",
    "    # p[0] is the coefficient determining the angle of the function as it's multiplied with polynomial.\n",
    "    data_detrended = data - p[0]*t\n",
    "\n",
    "    data_freq_domain = fft.fft(data_detrended)  # Compute the one-dimensional discrete Fourier Transform.\n",
    "\n",
    "    f = fft.fftfreq(n)  # Discrete Fourier Transform sample frequencies.\n",
    "\n",
    "    # WHAT ARE WE DOING HERE? Looks like a folded zipped array [0, 1, 499, 2, 498, 3, 497, ...]\n",
    "    indexes = list(range(n))\n",
    "    indexes.sort(key = lambda i: np.absolute(f[i]))\n",
    "\n",
    "    t = np.arange(0, n + N_predictions)  # Array immitating the sequential time includeing the interval to predict.\n",
    "\n",
    "    restored_signal = np.zeros(t.size)  # Creating zero base for signal to be restored, allowing then to update values.\n",
    "\n",
    "    # Iteratively update the values of restored signal.\n",
    "    for i in indexes[:1 + harmonics*2]:\n",
    "        amplification = np.absolute(data_freq_domain[i]) / n  # Calculating prediction aplitude.\n",
    "        phase = np.angle(data_freq_domain[i])  # Calculating prediction phase.\n",
    "        restored_signal += amplification * np.cos(2 * np.pi * f[i] * t + phase)  # This is FFT itself.\n",
    "    \n",
    "    result =  restored_signal + p[0]*t  # Returning the scaling \n",
    "\n",
    "    result = [int(i) for i in result]\n",
    "    \n",
    "    return result"
   ]
  },
  {
   "cell_type": "code",
   "execution_count": 175,
   "metadata": {},
   "outputs": [],
   "source": [
    "restored_signal = FFT(data, 30)"
   ]
  },
  {
   "cell_type": "code",
   "execution_count": 176,
   "metadata": {},
   "outputs": [],
   "source": [
    "real_signal = np.append(data, [1808, 1454, 1393,1733,1944,1911,1804,1525,573,576,740,\n",
    "                               760,784,746,713,598,619,711,766,716,803,718,562,499,573,746,679,658,694,545])"
   ]
  },
  {
   "cell_type": "code",
   "execution_count": 177,
   "metadata": {
    "scrolled": false
   },
   "outputs": [
    {
     "data": {
      "text/plain": [
       "<matplotlib.legend.Legend at 0x7ffe5d1cad50>"
      ]
     },
     "execution_count": 177,
     "metadata": {},
     "output_type": "execute_result"
    },
    {
     "data": {
      "image/png": "[encoded data removed]",
      "text/plain": [
       "<Figure size 432x288 with 1 Axes>"
      ]
     },
     "metadata": {
      "needs_background": "light"
     },
     "output_type": "display_data"
    }
   ],
   "source": [
    "import matplotlib.pyplot as plt\n",
    "plt.plot(restored_signal, label='restored_signal')\n",
    "plt.plot(real_signal, label = 'original_signal')\n",
    "plt.legend()"
   ]
  },
  {
   "cell_type": "code",
   "execution_count": 206,
   "metadata": {
    "scrolled": false
   },
   "outputs": [
    {
     "ename": "AttributeError",
     "evalue": "'RangeIndex' object has no attribute 'inferred_freq'",
     "output_type": "error",
     "traceback": [
      "\u001b[0;31m---------------------------------------------------------------------------\u001b[0m",
      "\u001b[0;31mAttributeError\u001b[0m                            Traceback (most recent call last)",
      "\u001b[0;32m<ipython-input-206-d9b364a2d844>\u001b[0m in \u001b[0;36m<module>\u001b[0;34m\u001b[0m\n\u001b[1;32m      1\u001b[0m \u001b[0;32mfrom\u001b[0m \u001b[0mstatsmodels\u001b[0m\u001b[0;34m.\u001b[0m\u001b[0mtsa\u001b[0m\u001b[0;34m.\u001b[0m\u001b[0mseasonal\u001b[0m \u001b[0;32mimport\u001b[0m \u001b[0mseasonal_decompose\u001b[0m\u001b[0;34m\u001b[0m\u001b[0;34m\u001b[0m\u001b[0m\n\u001b[0;32m----> 2\u001b[0;31m \u001b[0mdecomposition\u001b[0m \u001b[0;34m=\u001b[0m \u001b[0mseasonal_decompose\u001b[0m\u001b[0;34m(\u001b[0m\u001b[0mpd\u001b[0m\u001b[0;34m.\u001b[0m\u001b[0mSeries\u001b[0m\u001b[0;34m(\u001b[0m\u001b[0mdata\u001b[0m\u001b[0;34m)\u001b[0m\u001b[0;34m,\u001b[0m \u001b[0mmodel\u001b[0m\u001b[0;34m=\u001b[0m\u001b[0;34m\"multiplicative\"\u001b[0m\u001b[0;34m)\u001b[0m\u001b[0;34m\u001b[0m\u001b[0;34m\u001b[0m\u001b[0m\n\u001b[0m\u001b[1;32m      3\u001b[0m \u001b[0mtrend\u001b[0m    \u001b[0;34m=\u001b[0m \u001b[0mdecomposition\u001b[0m\u001b[0;34m.\u001b[0m\u001b[0mtrend\u001b[0m\u001b[0;34m\u001b[0m\u001b[0;34m\u001b[0m\u001b[0m\n\u001b[1;32m      4\u001b[0m \u001b[0mseasonal\u001b[0m \u001b[0;34m=\u001b[0m \u001b[0mdecomposition\u001b[0m\u001b[0;34m.\u001b[0m\u001b[0mseasonal\u001b[0m\u001b[0;34m\u001b[0m\u001b[0;34m\u001b[0m\u001b[0m\n\u001b[1;32m      5\u001b[0m \u001b[0mresidual\u001b[0m \u001b[0;34m=\u001b[0m \u001b[0mdecomposition\u001b[0m\u001b[0;34m.\u001b[0m\u001b[0mresid\u001b[0m\u001b[0;34m\u001b[0m\u001b[0;34m\u001b[0m\u001b[0m\n",
      "\u001b[0;32m~/opt/anaconda3/lib/python3.7/site-packages/statsmodels/tsa/seasonal.py\u001b[0m in \u001b[0;36mseasonal_decompose\u001b[0;34m(x, model, filt, freq, two_sided, extrapolate_trend)\u001b[0m\n\u001b[1;32m    106\u001b[0m     \"\"\"\n\u001b[1;32m    107\u001b[0m     \u001b[0;32mif\u001b[0m \u001b[0mfreq\u001b[0m \u001b[0;32mis\u001b[0m \u001b[0;32mNone\u001b[0m\u001b[0;34m:\u001b[0m\u001b[0;34m\u001b[0m\u001b[0;34m\u001b[0m\u001b[0m\n\u001b[0;32m--> 108\u001b[0;31m         \u001b[0m_pandas_wrapper\u001b[0m\u001b[0;34m,\u001b[0m \u001b[0mpfreq\u001b[0m \u001b[0;34m=\u001b[0m \u001b[0m_maybe_get_pandas_wrapper_freq\u001b[0m\u001b[0;34m(\u001b[0m\u001b[0mx\u001b[0m\u001b[0;34m)\u001b[0m\u001b[0;34m\u001b[0m\u001b[0;34m\u001b[0m\u001b[0m\n\u001b[0m\u001b[1;32m    109\u001b[0m     \u001b[0;32melse\u001b[0m\u001b[0;34m:\u001b[0m\u001b[0;34m\u001b[0m\u001b[0;34m\u001b[0m\u001b[0m\n\u001b[1;32m    110\u001b[0m         \u001b[0m_pandas_wrapper\u001b[0m \u001b[0;34m=\u001b[0m \u001b[0m_maybe_get_pandas_wrapper\u001b[0m\u001b[0;34m(\u001b[0m\u001b[0mx\u001b[0m\u001b[0;34m)\u001b[0m\u001b[0;34m\u001b[0m\u001b[0;34m\u001b[0m\u001b[0m\n",
      "\u001b[0;32m~/opt/anaconda3/lib/python3.7/site-packages/statsmodels/tsa/filters/_utils.py\u001b[0m in \u001b[0;36m_maybe_get_pandas_wrapper_freq\u001b[0;34m(X, trim)\u001b[0m\n\u001b[1;32m     46\u001b[0m         \u001b[0mindex\u001b[0m \u001b[0;34m=\u001b[0m \u001b[0mX\u001b[0m\u001b[0;34m.\u001b[0m\u001b[0mindex\u001b[0m\u001b[0;34m\u001b[0m\u001b[0;34m\u001b[0m\u001b[0m\n\u001b[1;32m     47\u001b[0m         \u001b[0mfunc\u001b[0m \u001b[0;34m=\u001b[0m \u001b[0m_get_pandas_wrapper\u001b[0m\u001b[0;34m(\u001b[0m\u001b[0mX\u001b[0m\u001b[0;34m,\u001b[0m \u001b[0mtrim\u001b[0m\u001b[0;34m)\u001b[0m\u001b[0;34m\u001b[0m\u001b[0;34m\u001b[0m\u001b[0m\n\u001b[0;32m---> 48\u001b[0;31m         \u001b[0mfreq\u001b[0m \u001b[0;34m=\u001b[0m \u001b[0mindex\u001b[0m\u001b[0;34m.\u001b[0m\u001b[0minferred_freq\u001b[0m\u001b[0;34m\u001b[0m\u001b[0;34m\u001b[0m\u001b[0m\n\u001b[0m\u001b[1;32m     49\u001b[0m         \u001b[0;32mreturn\u001b[0m \u001b[0mfunc\u001b[0m\u001b[0;34m,\u001b[0m \u001b[0mfreq\u001b[0m\u001b[0;34m\u001b[0m\u001b[0;34m\u001b[0m\u001b[0m\n\u001b[1;32m     50\u001b[0m     \u001b[0;32melse\u001b[0m\u001b[0;34m:\u001b[0m\u001b[0;34m\u001b[0m\u001b[0;34m\u001b[0m\u001b[0m\n",
      "\u001b[0;31mAttributeError\u001b[0m: 'RangeIndex' object has no attribute 'inferred_freq'"
     ]
    }
   ],
   "source": [
    "from statsmodels.tsa.seasonal import seasonal_decompose\n",
    "decomposition = seasonal_decompose(pd.Series(data), model=\"multiplicative\")\n",
    "trend    = decomposition.trend\n",
    "seasonal = decomposition.seasonal\n",
    "residual = decomposition.resid"
   ]
  },
  {
   "cell_type": "code",
   "execution_count": 209,
   "metadata": {},
   "outputs": [
    {
     "ename": "AttributeError",
     "evalue": "'numpy.ndarray' object has no attribute 'index'",
     "output_type": "error",
     "traceback": [
      "\u001b[0;31m---------------------------------------------------------------------------\u001b[0m",
      "\u001b[0;31mAttributeError\u001b[0m                            Traceback (most recent call last)",
      "\u001b[0;32m<ipython-input-209-a121a47bddf5>\u001b[0m in \u001b[0;36m<module>\u001b[0;34m\u001b[0m\n\u001b[1;32m      1\u001b[0m \u001b[0mts_log\u001b[0m \u001b[0;34m=\u001b[0m \u001b[0mdata\u001b[0m\u001b[0;34m\u001b[0m\u001b[0;34m\u001b[0m\u001b[0m\n\u001b[1;32m      2\u001b[0m \u001b[0;34m\u001b[0m\u001b[0m\n\u001b[0;32m----> 3\u001b[0;31m \u001b[0mts_log\u001b[0m\u001b[0;34m.\u001b[0m\u001b[0mindex\u001b[0m\u001b[0;34m\u001b[0m\u001b[0;34m\u001b[0m\u001b[0m\n\u001b[0m",
      "\u001b[0;31mAttributeError\u001b[0m: 'numpy.ndarray' object has no attribute 'index'"
     ]
    }
   ],
   "source": [
    "ts_log = data\n",
    "\n",
    "ts_log.index"
   ]
  },
  {
   "cell_type": "code",
   "execution_count": null,
   "metadata": {},
   "outputs": [],
   "source": []
  },
  {
   "cell_type": "code",
   "execution_count": null,
   "metadata": {},
   "outputs": [],
   "source": []
  },
  {
   "cell_type": "markdown",
   "metadata": {},
   "source": [
    "# HackerRank upload"
   ]
  },
  {
   "cell_type": "code",
   "execution_count": 112,
   "metadata": {},
   "outputs": [
    {
     "name": "stdout",
     "output_type": "stream",
     "text": [
      "10\n",
      "1\n",
      "2\n",
      "3\n",
      "4\n",
      "5\n",
      "6\n",
      "7\n",
      "8\n",
      "9\n",
      "10\n",
      "11\n",
      "12\n",
      "13\n",
      "14\n",
      "15\n",
      "16\n",
      "17\n",
      "18\n",
      "19\n",
      "20\n",
      "21\n",
      "22\n",
      "23\n",
      "24\n",
      "25\n",
      "26\n",
      "27\n",
      "28\n",
      "29\n",
      "30\n",
      "31\n",
      "32\n",
      "33\n",
      "34\n",
      "35\n",
      "36\n",
      "37\n",
      "38\n",
      "39\n",
      "40\n"
     ]
    }
   ],
   "source": [
    "import pandas as pd\n",
    "import numpy as np\n",
    "from numpy import fft\n",
    "\n",
    "N = int(input())\n",
    "\n",
    "data = np.array([])\n",
    "\n",
    "for i in range(N):\n",
    "    data = np.append(data, [int(input())])\n",
    "    \n",
    "# Define function for Fourier extrapolation of given timeseries.\n",
    "\n",
    "\n",
    "def FFT(data, N_predictions):  # data is numpy array, N_predictions as integer.\n",
    "    \n",
    "    n = data.size\n",
    "    harmonics = 500  # Number of harmonics, the more harmonics the more complex signal can be described.\n",
    "    t = np.arange(0, n)  # Array immitating the sequential time.\n",
    "    p = np.polyfit(t, data, 1)  # In arguments \"1\" means fitting the linear trend to historical data: (kx + b)\n",
    "\n",
    "    # Removing trend from the data. It's like descaling according intercept by time.\n",
    "    # p[0] is the coefficient determining the angle of the function as it's multiplied with polynomial.\n",
    "    data_detrended = data - p[0]*t\n",
    "\n",
    "    data_freq_domain = fft.fft(data_detrended)  # Compute the one-dimensional discrete Fourier Transform.\n",
    "\n",
    "    f = fft.fftfreq(n)  # Discrete Fourier Transform sample frequencies.\n",
    "\n",
    "    # WHAT ARE WE DOING HERE? Looks like a folded zipped array [0, 1, 499, 2, 498, 3, 497, ...]\n",
    "    indexes = list(range(n))\n",
    "    indexes.sort(key = lambda i: np.absolute(f[i]))\n",
    "\n",
    "    t = np.arange(0, n + N_predictions)  # Array immitating the sequential time includeing the interval to predict.\n",
    "\n",
    "    restored_signal = np.zeros(t.size)  # Creating zero base for signal to be restored, allowing then to update values.\n",
    "\n",
    "    # Iteratively update the values of restored signal.\n",
    "    for i in indexes[:1 + harmonics*2]:\n",
    "        amplification = np.absolute(data_freq_domain[i]) / n  # Calculating prediction aplitude.\n",
    "        phase = np.angle(data_freq_domain[i])  # Calculating prediction phase.\n",
    "        restored_signal += amplification * np.cos(2 * np.pi * f[i] * t + phase)\n",
    "    \n",
    "    result = restored_signal + p[0]*t  # Returning the scaling\n",
    "    \n",
    "    result = [int(i) for i in result]\n",
    "    \n",
    "\n",
    "    return result\n",
    "\n",
    "\n",
    "extrapolation = FFT(data, 30)\n",
    "\n",
    "\n",
    "for i in range(N,len(extrapolation)):\n",
    "    print(extrapolation[i])"
   ]
  }
 ],
 "metadata": {
  "kernelspec": {
   "display_name": "Python 3",
   "language": "python",
   "name": "python3"
  },
  "language_info": {
   "codemirror_mode": {
    "name": "ipython",
    "version": 3
   },
   "file_extension": ".py",
   "mimetype": "text/x-python",
   "name": "python",
   "nbconvert_exporter": "python",
   "pygments_lexer": "ipython3",
   "version": "3.7.4"
  }
 },
 "nbformat": 4,
 "nbformat_minor": 2
}
