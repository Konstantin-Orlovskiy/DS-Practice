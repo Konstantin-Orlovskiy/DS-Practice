{
 "cells": [
  {
   "cell_type": "code",
   "execution_count": 114,
   "metadata": {},
   "outputs": [],
   "source": [
    "import pandas as pd\n",
    "import numpy as np\n",
    "from numpy import fft"
   ]
  },
  {
   "cell_type": "code",
   "execution_count": 115,
   "metadata": {},
   "outputs": [
    {
     "data": {
      "text/plain": [
       "500"
      ]
     },
     "execution_count": 115,
     "metadata": {},
     "output_type": "execute_result"
    }
   ],
   "source": [
    "data = np.loadtxt('input01.txt', skiprows=1)\n",
    "data.size"
   ]
  },
  {
   "cell_type": "code",
   "execution_count": 150,
   "metadata": {},
   "outputs": [
    {
     "data": {
      "text/plain": [
       "array([1339., 1462., 1702., 1656., 1439., 1208., 1613., 1935., 1964.,\n",
       "       2003., 2023., 1559., 1274., 1805., 2051., 2024., 2049., 1998.,\n",
       "       1441., 1257., 1559., 1643., 1464., 1521., 1576., 1381., 1372.,\n",
       "       1610., 1926., 2018., 1930., 1868., 1551., 1471., 1954., 2079.,\n",
       "       2061., 2001., 2031., 1574., 1165., 1366., 1384., 1342., 1543.,\n",
       "       1509., 1598., 1349., 1625., 1932., 2079., 1857., 1443., 1332.,\n",
       "       1149., 1471., 1595., 1498., 1433., 1401., 1178.,  972., 1283.,\n",
       "       1468., 1456., 1466., 1378., 1208., 1038., 1344., 1379., 1418.,\n",
       "       1466., 1414., 1129.,  948., 1285., 1373., 1379.,  599.,  614.,\n",
       "        850.,  672.,  747.,  732.,  834.,  996.,  900.,  792.,  688.,\n",
       "        781.,  696.,  834., 1026.,  974., 1001.,  997., 1110., 1212.,\n",
       "       1301., 1322., 1253.,  935.,  857., 1082., 1112., 1291., 1391.,\n",
       "       1384., 1089.,  963., 1174., 1420., 1349., 1338., 1335., 1075.,\n",
       "        952., 1376., 1586., 1571., 1543., 1525., 1223., 1066., 1555.,\n",
       "       1704., 1745., 1749., 1687., 1288., 1152., 1492., 1728., 1742.,\n",
       "       1732., 1510., 1288., 1280., 1659., 1852., 1823., 1723., 1416.,\n",
       "       1187., 1014., 1324., 1618., 1736., 1552., 1598., 1158., 1083.,\n",
       "       1383., 1595., 1540., 1551., 1447., 1128., 1057., 1371., 1746.,\n",
       "       1653., 1726., 1759., 1297., 1165., 1480., 1693., 1744., 1661.,\n",
       "       1575., 1199., 1062., 1395., 1555., 1441., 1399., 1381., 1287.,\n",
       "       1151., 1394., 1660., 1761., 1874., 1863., 1544., 1340., 1707.,\n",
       "       1983., 1785., 1725., 1765., 1520., 1274., 1763., 1793., 1853.,\n",
       "       1861., 1733., 1575., 1304., 1793., 1886., 1832., 1993., 1805.,\n",
       "       1521., 1332., 1813., 1833., 1633., 1682., 1699., 1392., 1249.,\n",
       "       1601., 1827., 1755., 1560., 1181., 1039.,  920., 1106., 1269.,\n",
       "       1159., 1192., 1203., 1876., 1065., 1294., 1249., 1145., 1098.,\n",
       "       1171.,  996.,  807., 1081., 1258., 1201., 1273., 1165.,  944.,\n",
       "        797.,  948., 1160., 1387., 1364., 1061.,  916.,  901., 1047.,\n",
       "       1107., 1234., 1290., 1027.,  877.,  629.,  789.,  977.,  953.,\n",
       "        983.,  927.,  870.,  724.,  824., 1015., 1062.,  962., 1046.,\n",
       "        766.,  764.,  876.,  975.,  917.,  914., 1239., 1000.,  753.,\n",
       "        892., 1000., 1509., 1183.,  955.,  862.,  659.,  780.,  916.,\n",
       "       1010.,  988., 1032.,  856.,  729.,  917., 1038., 1146., 1228.,\n",
       "       1210.,  939.,  913., 1045., 1131., 1076., 1068., 1073.,  919.,\n",
       "        809.,  963., 1095., 1150.,  950.,  909.,  889.,  840., 1156.,\n",
       "       1221., 1247., 1146., 1142.,  969.,  912., 1103., 1146., 1118.,\n",
       "       1193., 1200., 1065.,  908., 1491., 1968., 2100., 2402., 2489.,\n",
       "       2110., 2046., 2288., 2835., 2620., 2467., 2262., 2046., 1711.,\n",
       "       1960., 2241., 2383., 2463., 2289., 1847., 1654., 2040., 2473.,\n",
       "       2492., 2501., 2566., 2284., 2063., 2655., 2878., 2957., 2710.,\n",
       "       2526., 2105., 1782., 2242., 2520., 2246., 2378., 2545., 2154.,\n",
       "       2022., 2711., 3142., 2952., 2882., 2766., 2104., 1745., 2043.,\n",
       "       2495., 2555., 2572., 2723., 2276., 1936., 2472., 2800., 2843.,\n",
       "       2670., 2769., 2267., 2213., 2695., 2801., 2608., 2418., 1940.,\n",
       "       1610., 1459., 1972., 2292., 2573., 2630., 2448., 2022., 1869.,\n",
       "       2313., 2551., 2653., 2595., 2373., 2088., 1954., 2374., 2780.,\n",
       "       2674., 2675., 2445., 2095., 1806., 2279., 2639., 2616., 2152.,\n",
       "       2055., 1775., 1682., 2151., 2386., 2519., 2381., 2394., 1832.,\n",
       "       1729., 1953., 2224., 2164., 2121., 2103., 1693., 1557., 1859.,\n",
       "       1884., 1949., 1861., 1727., 1489., 1197., 1385., 1412., 1165.,\n",
       "        957.,  475., 1301., 1148., 1272., 1333.,  983., 1263., 1513.,\n",
       "       1510., 1371., 1567., 1814., 1870., 2014., 1923., 1506., 1262.,\n",
       "       1342., 1531., 1360., 1526., 1542., 1269., 1175., 1377., 1615.,\n",
       "       1578., 1564., 1514., 1261., 1087., 1389., 1736., 1819., 1890.,\n",
       "       1652., 1521., 1274., 1592., 1694., 1705., 1869., 1910., 1544.,\n",
       "       1341., 1679., 1823., 1845., 1921.])"
      ]
     },
     "execution_count": 150,
     "metadata": {},
     "output_type": "execute_result"
    }
   ],
   "source": [
    "data"
   ]
  },
  {
   "cell_type": "code",
   "execution_count": 156,
   "metadata": {},
   "outputs": [],
   "source": [
    "# Define function for Fourier extrapolation of given timeseries.\n",
    "\n",
    "\n",
    "def FFT(data, N_predictions):  # data is numpy array, N_predictions as integer.\n",
    "    \n",
    "    n = data.size\n",
    "    harmonics = 500  # Number of harmonics, the more harmonics the more complex signal can be described.\n",
    "    t = np.arange(0, n)  # Array immitating the sequential time.\n",
    "    p = np.polyfit(t, data, 1)  # In arguments \"1\" means fitting the linear trend to historical data: (kx + b)\n",
    "\n",
    "    # Removing trend from the data. It's like descaling according intercept by time.\n",
    "    # p[0] is the coefficient determining the angle of the function as it's multiplied with polynomial.\n",
    "    data_detrended = data - p[0]*t\n",
    "\n",
    "    data_freq_domain = fft.fft(data_detrended)  # Compute the one-dimensional discrete Fourier Transform.\n",
    "\n",
    "    f = fft.fftfreq(n)  # Discrete Fourier Transform sample frequencies.\n",
    "\n",
    "    # WHAT ARE WE DOING HERE? Looks like a folded zipped array [0, 1, 499, 2, 498, 3, 497, ...]\n",
    "    indexes = list(range(n))\n",
    "    indexes.sort(key = lambda i: np.absolute(f[i]))\n",
    "\n",
    "    t = np.arange(0, n + N_predictions)  # Array immitating the sequential time includeing the interval to predict.\n",
    "\n",
    "    restored_signal = np.zeros(t.size)  # Creating zero base for signal to be restored, allowing then to update values.\n",
    "\n",
    "    # Iteratively update the values of restored signal.\n",
    "    for i in indexes[:1 + harmonics*2]:\n",
    "        amplification = np.absolute(data_freq_domain[i]) / n  # Calculating prediction aplitude.\n",
    "        phase = np.angle(data_freq_domain[i])  # Calculating prediction phase.\n",
    "        restored_signal += amplification * np.cos(2 * np.pi * f[i] * t + phase)  # This is FFT itself.\n",
    "    \n",
    "    result =  restored_signal + p[0]*t  # Returning the scaling \n",
    "\n",
    "    result = [int(i) for i in result]\n",
    "    \n",
    "    return result"
   ]
  },
  {
   "cell_type": "code",
   "execution_count": 157,
   "metadata": {},
   "outputs": [],
   "source": [
    "restored_signal = FFT(data, 100)"
   ]
  },
  {
   "cell_type": "code",
   "execution_count": 158,
   "metadata": {},
   "outputs": [],
   "source": [
    "real_signal = np.append(data, [1808, 1454, 1393,1733,1944,1911,1804,1525,573,576,740,\n",
    "                               760,784,746,713,598,619,711,766,716,803,718,562,499,573,746,679,658,694,545])"
   ]
  },
  {
   "cell_type": "code",
   "execution_count": 159,
   "metadata": {
    "scrolled": false
   },
   "outputs": [
    {
     "data": {
      "text/plain": [
       "[<matplotlib.lines.Line2D at 0x7ffe5cefe5d0>]"
      ]
     },
     "execution_count": 159,
     "metadata": {},
     "output_type": "execute_result"
    },
    {
     "data": {
      "image/png": "[encoded data removed]",
      "text/plain": [
       "<Figure size 432x288 with 1 Axes>"
      ]
     },
     "metadata": {
      "needs_background": "light"
     },
     "output_type": "display_data"
    }
   ],
   "source": [
    "import matplotlib.pyplot as plt\n",
    "plt.plot(restored_signal)\n",
    "plt.plot(real_signal)"
   ]
  },
  {
   "cell_type": "code",
   "execution_count": 112,
   "metadata": {},
   "outputs": [
    {
     "name": "stdout",
     "output_type": "stream",
     "text": [
      "10\n",
      "1\n",
      "2\n",
      "3\n",
      "4\n",
      "5\n",
      "6\n",
      "7\n",
      "8\n",
      "9\n",
      "10\n",
      "11\n",
      "12\n",
      "13\n",
      "14\n",
      "15\n",
      "16\n",
      "17\n",
      "18\n",
      "19\n",
      "20\n",
      "21\n",
      "22\n",
      "23\n",
      "24\n",
      "25\n",
      "26\n",
      "27\n",
      "28\n",
      "29\n",
      "30\n",
      "31\n",
      "32\n",
      "33\n",
      "34\n",
      "35\n",
      "36\n",
      "37\n",
      "38\n",
      "39\n",
      "40\n"
     ]
    }
   ],
   "source": [
    "import pandas as pd\n",
    "import numpy as np\n",
    "from numpy import fft\n",
    "\n",
    "N = int(input())\n",
    "\n",
    "data = np.array([])\n",
    "\n",
    "for i in range(N):\n",
    "    data = np.append(data, [int(input())])\n",
    "    \n",
    "# Define function for Fourier extrapolation of given timeseries.\n",
    "\n",
    "\n",
    "def FFT(data, N_predictions):  # data is numpy array, N_predictions as integer.\n",
    "    \n",
    "    n = data.size\n",
    "    harmonics = 500  # Number of harmonics, the more harmonics the more complex signal can be described.\n",
    "    t = np.arange(0, n)  # Array immitating the sequential time.\n",
    "    p = np.polyfit(t, data, 1)  # In arguments \"1\" means fitting the linear trend to historical data: (kx + b)\n",
    "\n",
    "    # Removing trend from the data. It's like descaling according intercept by time.\n",
    "    # p[0] is the coefficient determining the angle of the function as it's multiplied with polynomial.\n",
    "    data_detrended = data - p[0]*t\n",
    "\n",
    "    data_freq_domain = fft.fft(data_detrended)  # Compute the one-dimensional discrete Fourier Transform.\n",
    "\n",
    "    f = fft.fftfreq(n)  # Discrete Fourier Transform sample frequencies.\n",
    "\n",
    "    # WHAT ARE WE DOING HERE? Looks like a folded zipped array [0, 1, 499, 2, 498, 3, 497, ...]\n",
    "    indexes = list(range(n))\n",
    "    indexes.sort(key = lambda i: np.absolute(f[i]))\n",
    "\n",
    "    t = np.arange(0, n + N_predictions)  # Array immitating the sequential time includeing the interval to predict.\n",
    "\n",
    "    restored_signal = np.zeros(t.size)  # Creating zero base for signal to be restored, allowing then to update values.\n",
    "\n",
    "    # Iteratively update the values of restored signal.\n",
    "    for i in indexes[:1 + harmonics*2]:\n",
    "        amplification = np.absolute(data_freq_domain[i]) / n  # Calculating prediction aplitude.\n",
    "        phase = np.angle(data_freq_domain[i])  # Calculating prediction phase.\n",
    "        restored_signal += amplification * np.cos(2 * np.pi * f[i] * t + phase)\n",
    "    \n",
    "    result = restored_signal + p[0]*t  # Returning the scaling\n",
    "    \n",
    "    result = [int(i) for i in result]\n",
    "    \n",
    "\n",
    "    return result\n",
    "\n",
    "\n",
    "extrapolation = FFT(data, 30)\n",
    "\n",
    "\n",
    "for i in range(N,len(extrapolation)):\n",
    "    print(extrapolation[i])"
   ]
  }
 ],
 "metadata": {
  "kernelspec": {
   "display_name": "Python 3",
   "language": "python",
   "name": "python3"
  },
  "language_info": {
   "codemirror_mode": {
    "name": "ipython",
    "version": 3
   },
   "file_extension": ".py",
   "mimetype": "text/x-python",
   "name": "python",
   "nbconvert_exporter": "python",
   "pygments_lexer": "ipython3",
   "version": "3.7.4"
  }
 },
 "nbformat": 4,
 "nbformat_minor": 2
}
